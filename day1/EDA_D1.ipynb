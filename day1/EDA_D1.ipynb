{
 "cells": [
  {
   "cell_type": "code",
   "execution_count": 1,
   "metadata": {},
   "outputs": [],
   "source": [
    "import os\n",
    "import time\n",
    "import glob\n",
    "\n",
    "import numpy as np\n",
    "import pandas as pd\n",
    "import matplotlib.pyplot as plt\n",
    "%matplotlib inline"
   ]
  },
  {
   "cell_type": "code",
   "execution_count": 2,
   "metadata": {},
   "outputs": [],
   "source": [
    "filename = glob.glob(\"*.csv\")[0]"
   ]
  },
  {
   "cell_type": "code",
   "execution_count": 3,
   "metadata": {},
   "outputs": [],
   "source": [
    "data = pd.read_csv(filename)"
   ]
  },
  {
   "cell_type": "code",
   "execution_count": 4,
   "metadata": {},
   "outputs": [
    {
     "data": {
      "text/html": [
       "<div>\n",
       "<style scoped>\n",
       "    .dataframe tbody tr th:only-of-type {\n",
       "        vertical-align: middle;\n",
       "    }\n",
       "\n",
       "    .dataframe tbody tr th {\n",
       "        vertical-align: top;\n",
       "    }\n",
       "\n",
       "    .dataframe thead th {\n",
       "        text-align: right;\n",
       "    }\n",
       "</style>\n",
       "<table border=\"1\" class=\"dataframe\">\n",
       "  <thead>\n",
       "    <tr style=\"text-align: right;\">\n",
       "      <th></th>\n",
       "      <th>Province/State</th>\n",
       "      <th>Country/Region</th>\n",
       "      <th>Lat</th>\n",
       "      <th>Long</th>\n",
       "      <th>1/22/20</th>\n",
       "      <th>1/23/20</th>\n",
       "      <th>1/24/20</th>\n",
       "      <th>1/25/20</th>\n",
       "      <th>1/26/20</th>\n",
       "      <th>1/27/20</th>\n",
       "      <th>...</th>\n",
       "      <th>3/13/20</th>\n",
       "      <th>3/14/20</th>\n",
       "      <th>3/15/20</th>\n",
       "      <th>3/16/20</th>\n",
       "      <th>3/17/20</th>\n",
       "      <th>3/18/20</th>\n",
       "      <th>3/19/20</th>\n",
       "      <th>3/20/20</th>\n",
       "      <th>3/21/20</th>\n",
       "      <th>3/22/20</th>\n",
       "    </tr>\n",
       "  </thead>\n",
       "  <tbody>\n",
       "    <tr>\n",
       "      <th>0</th>\n",
       "      <td>NaN</td>\n",
       "      <td>Thailand</td>\n",
       "      <td>15.0000</td>\n",
       "      <td>101.0000</td>\n",
       "      <td>2</td>\n",
       "      <td>3</td>\n",
       "      <td>5</td>\n",
       "      <td>7</td>\n",
       "      <td>8</td>\n",
       "      <td>8</td>\n",
       "      <td>...</td>\n",
       "      <td>75</td>\n",
       "      <td>82</td>\n",
       "      <td>114</td>\n",
       "      <td>147</td>\n",
       "      <td>177</td>\n",
       "      <td>212</td>\n",
       "      <td>272</td>\n",
       "      <td>322</td>\n",
       "      <td>411</td>\n",
       "      <td>599</td>\n",
       "    </tr>\n",
       "    <tr>\n",
       "      <th>1</th>\n",
       "      <td>NaN</td>\n",
       "      <td>Japan</td>\n",
       "      <td>36.0000</td>\n",
       "      <td>138.0000</td>\n",
       "      <td>2</td>\n",
       "      <td>1</td>\n",
       "      <td>2</td>\n",
       "      <td>2</td>\n",
       "      <td>4</td>\n",
       "      <td>4</td>\n",
       "      <td>...</td>\n",
       "      <td>701</td>\n",
       "      <td>773</td>\n",
       "      <td>839</td>\n",
       "      <td>825</td>\n",
       "      <td>878</td>\n",
       "      <td>889</td>\n",
       "      <td>924</td>\n",
       "      <td>963</td>\n",
       "      <td>1007</td>\n",
       "      <td>1086</td>\n",
       "    </tr>\n",
       "    <tr>\n",
       "      <th>2</th>\n",
       "      <td>NaN</td>\n",
       "      <td>Singapore</td>\n",
       "      <td>1.2833</td>\n",
       "      <td>103.8333</td>\n",
       "      <td>0</td>\n",
       "      <td>1</td>\n",
       "      <td>3</td>\n",
       "      <td>3</td>\n",
       "      <td>4</td>\n",
       "      <td>5</td>\n",
       "      <td>...</td>\n",
       "      <td>200</td>\n",
       "      <td>212</td>\n",
       "      <td>226</td>\n",
       "      <td>243</td>\n",
       "      <td>266</td>\n",
       "      <td>313</td>\n",
       "      <td>345</td>\n",
       "      <td>385</td>\n",
       "      <td>432</td>\n",
       "      <td>455</td>\n",
       "    </tr>\n",
       "    <tr>\n",
       "      <th>3</th>\n",
       "      <td>NaN</td>\n",
       "      <td>Nepal</td>\n",
       "      <td>28.1667</td>\n",
       "      <td>84.2500</td>\n",
       "      <td>0</td>\n",
       "      <td>0</td>\n",
       "      <td>0</td>\n",
       "      <td>1</td>\n",
       "      <td>1</td>\n",
       "      <td>1</td>\n",
       "      <td>...</td>\n",
       "      <td>1</td>\n",
       "      <td>1</td>\n",
       "      <td>1</td>\n",
       "      <td>1</td>\n",
       "      <td>1</td>\n",
       "      <td>1</td>\n",
       "      <td>1</td>\n",
       "      <td>1</td>\n",
       "      <td>1</td>\n",
       "      <td>2</td>\n",
       "    </tr>\n",
       "    <tr>\n",
       "      <th>4</th>\n",
       "      <td>NaN</td>\n",
       "      <td>Malaysia</td>\n",
       "      <td>2.5000</td>\n",
       "      <td>112.5000</td>\n",
       "      <td>0</td>\n",
       "      <td>0</td>\n",
       "      <td>0</td>\n",
       "      <td>3</td>\n",
       "      <td>4</td>\n",
       "      <td>4</td>\n",
       "      <td>...</td>\n",
       "      <td>197</td>\n",
       "      <td>238</td>\n",
       "      <td>428</td>\n",
       "      <td>566</td>\n",
       "      <td>673</td>\n",
       "      <td>790</td>\n",
       "      <td>900</td>\n",
       "      <td>1030</td>\n",
       "      <td>1183</td>\n",
       "      <td>1306</td>\n",
       "    </tr>\n",
       "  </tbody>\n",
       "</table>\n",
       "<p>5 rows × 65 columns</p>\n",
       "</div>"
      ],
      "text/plain": [
       "  Province/State Country/Region      Lat      Long  1/22/20  1/23/20  1/24/20  \\\n",
       "0            NaN       Thailand  15.0000  101.0000        2        3        5   \n",
       "1            NaN          Japan  36.0000  138.0000        2        1        2   \n",
       "2            NaN      Singapore   1.2833  103.8333        0        1        3   \n",
       "3            NaN          Nepal  28.1667   84.2500        0        0        0   \n",
       "4            NaN       Malaysia   2.5000  112.5000        0        0        0   \n",
       "\n",
       "   1/25/20  1/26/20  1/27/20  ...  3/13/20  3/14/20  3/15/20  3/16/20  \\\n",
       "0        7        8        8  ...       75       82      114      147   \n",
       "1        2        4        4  ...      701      773      839      825   \n",
       "2        3        4        5  ...      200      212      226      243   \n",
       "3        1        1        1  ...        1        1        1        1   \n",
       "4        3        4        4  ...      197      238      428      566   \n",
       "\n",
       "   3/17/20  3/18/20  3/19/20  3/20/20  3/21/20  3/22/20  \n",
       "0      177      212      272      322      411      599  \n",
       "1      878      889      924      963     1007     1086  \n",
       "2      266      313      345      385      432      455  \n",
       "3        1        1        1        1        1        2  \n",
       "4      673      790      900     1030     1183     1306  \n",
       "\n",
       "[5 rows x 65 columns]"
      ]
     },
     "execution_count": 4,
     "metadata": {},
     "output_type": "execute_result"
    }
   ],
   "source": [
    "data.head()"
   ]
  },
  {
   "cell_type": "code",
   "execution_count": 5,
   "metadata": {},
   "outputs": [
    {
     "data": {
      "text/plain": [
       "'3/22/20'"
      ]
     },
     "execution_count": 5,
     "metadata": {},
     "output_type": "execute_result"
    }
   ],
   "source": [
    "data.columns[-1] #most recent date in data"
   ]
  },
  {
   "cell_type": "code",
   "execution_count": 47,
   "metadata": {},
   "outputs": [],
   "source": [
    "countries = data.sort_values(\"Country/Region\")[\"Country/Region\"].unique()\n",
    "dates = data.columns[4:]"
   ]
  },
  {
   "cell_type": "code",
   "execution_count": 48,
   "metadata": {},
   "outputs": [],
   "source": [
    "full_dates = dates"
   ]
  },
  {
   "cell_type": "code",
   "execution_count": 8,
   "metadata": {},
   "outputs": [
    {
     "data": {
      "text/plain": [
       "Index(['1/22/20', '1/23/20', '1/24/20', '1/25/20', '1/26/20', '1/27/20',\n",
       "       '1/28/20', '1/29/20', '1/30/20', '1/31/20', '2/1/20', '2/2/20',\n",
       "       '2/3/20', '2/4/20', '2/5/20', '2/6/20', '2/7/20', '2/8/20', '2/9/20',\n",
       "       '2/10/20', '2/11/20', '2/12/20', '2/13/20', '2/14/20', '2/15/20',\n",
       "       '2/16/20', '2/17/20', '2/18/20', '2/19/20', '2/20/20', '2/21/20',\n",
       "       '2/22/20', '2/23/20', '2/24/20', '2/25/20', '2/26/20', '2/27/20',\n",
       "       '2/28/20', '2/29/20', '3/1/20', '3/2/20', '3/3/20', '3/4/20', '3/5/20',\n",
       "       '3/6/20', '3/7/20', '3/8/20', '3/9/20', '3/10/20', '3/11/20', '3/12/20',\n",
       "       '3/13/20', '3/14/20', '3/15/20', '3/16/20', '3/17/20', '3/18/20',\n",
       "       '3/19/20', '3/20/20', '3/21/20', '3/22/20'],\n",
       "      dtype='object')"
      ]
     },
     "execution_count": 8,
     "metadata": {},
     "output_type": "execute_result"
    }
   ],
   "source": [
    "dates"
   ]
  },
  {
   "cell_type": "markdown",
   "metadata": {},
   "source": [
    "**Task:**\n",
    "- Processed the data: On a particular date, If 70% number of confirmed case is zero, then Delete the column. i.e. whole February will be deleted and few more.\n",
    "- Plot the graph\n",
    "    - Country Wise\n",
    "    - Date Wise\n",
    "    - Continent Wise"
   ]
  },
  {
   "cell_type": "markdown",
   "metadata": {},
   "source": [
    "**Cleaning**"
   ]
  },
  {
   "cell_type": "markdown",
   "metadata": {},
   "source": [
    "- Processed the data: On a particular date, If 70% number of confirmed case is zero, then Delete the column. i.e. whole February will be deleted and few more."
   ]
  },
  {
   "cell_type": "code",
   "execution_count": 9,
   "metadata": {},
   "outputs": [
    {
     "data": {
      "text/html": [
       "<div>\n",
       "<style scoped>\n",
       "    .dataframe tbody tr th:only-of-type {\n",
       "        vertical-align: middle;\n",
       "    }\n",
       "\n",
       "    .dataframe tbody tr th {\n",
       "        vertical-align: top;\n",
       "    }\n",
       "\n",
       "    .dataframe thead th {\n",
       "        text-align: right;\n",
       "    }\n",
       "</style>\n",
       "<table border=\"1\" class=\"dataframe\">\n",
       "  <thead>\n",
       "    <tr style=\"text-align: right;\">\n",
       "      <th></th>\n",
       "      <th>1/22/20</th>\n",
       "      <th>1/23/20</th>\n",
       "      <th>1/24/20</th>\n",
       "      <th>1/25/20</th>\n",
       "      <th>1/26/20</th>\n",
       "      <th>1/27/20</th>\n",
       "      <th>1/28/20</th>\n",
       "      <th>1/29/20</th>\n",
       "      <th>1/30/20</th>\n",
       "      <th>1/31/20</th>\n",
       "      <th>...</th>\n",
       "      <th>3/13/20</th>\n",
       "      <th>3/14/20</th>\n",
       "      <th>3/15/20</th>\n",
       "      <th>3/16/20</th>\n",
       "      <th>3/17/20</th>\n",
       "      <th>3/18/20</th>\n",
       "      <th>3/19/20</th>\n",
       "      <th>3/20/20</th>\n",
       "      <th>3/21/20</th>\n",
       "      <th>3/22/20</th>\n",
       "    </tr>\n",
       "  </thead>\n",
       "  <tbody>\n",
       "    <tr>\n",
       "      <th>0</th>\n",
       "      <td>2</td>\n",
       "      <td>3</td>\n",
       "      <td>5</td>\n",
       "      <td>7</td>\n",
       "      <td>8</td>\n",
       "      <td>8</td>\n",
       "      <td>14</td>\n",
       "      <td>14</td>\n",
       "      <td>14</td>\n",
       "      <td>19</td>\n",
       "      <td>...</td>\n",
       "      <td>75</td>\n",
       "      <td>82</td>\n",
       "      <td>114</td>\n",
       "      <td>147</td>\n",
       "      <td>177</td>\n",
       "      <td>212</td>\n",
       "      <td>272</td>\n",
       "      <td>322</td>\n",
       "      <td>411</td>\n",
       "      <td>599</td>\n",
       "    </tr>\n",
       "    <tr>\n",
       "      <th>1</th>\n",
       "      <td>2</td>\n",
       "      <td>1</td>\n",
       "      <td>2</td>\n",
       "      <td>2</td>\n",
       "      <td>4</td>\n",
       "      <td>4</td>\n",
       "      <td>7</td>\n",
       "      <td>7</td>\n",
       "      <td>11</td>\n",
       "      <td>15</td>\n",
       "      <td>...</td>\n",
       "      <td>701</td>\n",
       "      <td>773</td>\n",
       "      <td>839</td>\n",
       "      <td>825</td>\n",
       "      <td>878</td>\n",
       "      <td>889</td>\n",
       "      <td>924</td>\n",
       "      <td>963</td>\n",
       "      <td>1007</td>\n",
       "      <td>1086</td>\n",
       "    </tr>\n",
       "    <tr>\n",
       "      <th>2</th>\n",
       "      <td>0</td>\n",
       "      <td>1</td>\n",
       "      <td>3</td>\n",
       "      <td>3</td>\n",
       "      <td>4</td>\n",
       "      <td>5</td>\n",
       "      <td>7</td>\n",
       "      <td>7</td>\n",
       "      <td>10</td>\n",
       "      <td>13</td>\n",
       "      <td>...</td>\n",
       "      <td>200</td>\n",
       "      <td>212</td>\n",
       "      <td>226</td>\n",
       "      <td>243</td>\n",
       "      <td>266</td>\n",
       "      <td>313</td>\n",
       "      <td>345</td>\n",
       "      <td>385</td>\n",
       "      <td>432</td>\n",
       "      <td>455</td>\n",
       "    </tr>\n",
       "    <tr>\n",
       "      <th>3</th>\n",
       "      <td>0</td>\n",
       "      <td>0</td>\n",
       "      <td>0</td>\n",
       "      <td>1</td>\n",
       "      <td>1</td>\n",
       "      <td>1</td>\n",
       "      <td>1</td>\n",
       "      <td>1</td>\n",
       "      <td>1</td>\n",
       "      <td>1</td>\n",
       "      <td>...</td>\n",
       "      <td>1</td>\n",
       "      <td>1</td>\n",
       "      <td>1</td>\n",
       "      <td>1</td>\n",
       "      <td>1</td>\n",
       "      <td>1</td>\n",
       "      <td>1</td>\n",
       "      <td>1</td>\n",
       "      <td>1</td>\n",
       "      <td>2</td>\n",
       "    </tr>\n",
       "    <tr>\n",
       "      <th>4</th>\n",
       "      <td>0</td>\n",
       "      <td>0</td>\n",
       "      <td>0</td>\n",
       "      <td>3</td>\n",
       "      <td>4</td>\n",
       "      <td>4</td>\n",
       "      <td>4</td>\n",
       "      <td>7</td>\n",
       "      <td>8</td>\n",
       "      <td>8</td>\n",
       "      <td>...</td>\n",
       "      <td>197</td>\n",
       "      <td>238</td>\n",
       "      <td>428</td>\n",
       "      <td>566</td>\n",
       "      <td>673</td>\n",
       "      <td>790</td>\n",
       "      <td>900</td>\n",
       "      <td>1030</td>\n",
       "      <td>1183</td>\n",
       "      <td>1306</td>\n",
       "    </tr>\n",
       "    <tr>\n",
       "      <th>...</th>\n",
       "      <td>...</td>\n",
       "      <td>...</td>\n",
       "      <td>...</td>\n",
       "      <td>...</td>\n",
       "      <td>...</td>\n",
       "      <td>...</td>\n",
       "      <td>...</td>\n",
       "      <td>...</td>\n",
       "      <td>...</td>\n",
       "      <td>...</td>\n",
       "      <td>...</td>\n",
       "      <td>...</td>\n",
       "      <td>...</td>\n",
       "      <td>...</td>\n",
       "      <td>...</td>\n",
       "      <td>...</td>\n",
       "      <td>...</td>\n",
       "      <td>...</td>\n",
       "      <td>...</td>\n",
       "      <td>...</td>\n",
       "      <td>...</td>\n",
       "    </tr>\n",
       "    <tr>\n",
       "      <th>482</th>\n",
       "      <td>0</td>\n",
       "      <td>0</td>\n",
       "      <td>0</td>\n",
       "      <td>0</td>\n",
       "      <td>0</td>\n",
       "      <td>0</td>\n",
       "      <td>0</td>\n",
       "      <td>0</td>\n",
       "      <td>0</td>\n",
       "      <td>0</td>\n",
       "      <td>...</td>\n",
       "      <td>0</td>\n",
       "      <td>0</td>\n",
       "      <td>0</td>\n",
       "      <td>0</td>\n",
       "      <td>0</td>\n",
       "      <td>0</td>\n",
       "      <td>0</td>\n",
       "      <td>0</td>\n",
       "      <td>0</td>\n",
       "      <td>1</td>\n",
       "    </tr>\n",
       "    <tr>\n",
       "      <th>483</th>\n",
       "      <td>0</td>\n",
       "      <td>0</td>\n",
       "      <td>0</td>\n",
       "      <td>0</td>\n",
       "      <td>0</td>\n",
       "      <td>0</td>\n",
       "      <td>0</td>\n",
       "      <td>0</td>\n",
       "      <td>0</td>\n",
       "      <td>0</td>\n",
       "      <td>...</td>\n",
       "      <td>0</td>\n",
       "      <td>0</td>\n",
       "      <td>0</td>\n",
       "      <td>0</td>\n",
       "      <td>0</td>\n",
       "      <td>0</td>\n",
       "      <td>0</td>\n",
       "      <td>0</td>\n",
       "      <td>0</td>\n",
       "      <td>1</td>\n",
       "    </tr>\n",
       "    <tr>\n",
       "      <th>484</th>\n",
       "      <td>0</td>\n",
       "      <td>0</td>\n",
       "      <td>0</td>\n",
       "      <td>0</td>\n",
       "      <td>0</td>\n",
       "      <td>0</td>\n",
       "      <td>0</td>\n",
       "      <td>0</td>\n",
       "      <td>0</td>\n",
       "      <td>0</td>\n",
       "      <td>...</td>\n",
       "      <td>0</td>\n",
       "      <td>0</td>\n",
       "      <td>0</td>\n",
       "      <td>0</td>\n",
       "      <td>0</td>\n",
       "      <td>0</td>\n",
       "      <td>0</td>\n",
       "      <td>0</td>\n",
       "      <td>0</td>\n",
       "      <td>1</td>\n",
       "    </tr>\n",
       "    <tr>\n",
       "      <th>485</th>\n",
       "      <td>0</td>\n",
       "      <td>0</td>\n",
       "      <td>0</td>\n",
       "      <td>0</td>\n",
       "      <td>0</td>\n",
       "      <td>0</td>\n",
       "      <td>0</td>\n",
       "      <td>0</td>\n",
       "      <td>0</td>\n",
       "      <td>0</td>\n",
       "      <td>...</td>\n",
       "      <td>0</td>\n",
       "      <td>0</td>\n",
       "      <td>0</td>\n",
       "      <td>0</td>\n",
       "      <td>0</td>\n",
       "      <td>0</td>\n",
       "      <td>0</td>\n",
       "      <td>0</td>\n",
       "      <td>0</td>\n",
       "      <td>1</td>\n",
       "    </tr>\n",
       "    <tr>\n",
       "      <th>486</th>\n",
       "      <td>0</td>\n",
       "      <td>0</td>\n",
       "      <td>0</td>\n",
       "      <td>0</td>\n",
       "      <td>0</td>\n",
       "      <td>0</td>\n",
       "      <td>0</td>\n",
       "      <td>0</td>\n",
       "      <td>0</td>\n",
       "      <td>0</td>\n",
       "      <td>...</td>\n",
       "      <td>0</td>\n",
       "      <td>0</td>\n",
       "      <td>0</td>\n",
       "      <td>0</td>\n",
       "      <td>0</td>\n",
       "      <td>0</td>\n",
       "      <td>0</td>\n",
       "      <td>0</td>\n",
       "      <td>0</td>\n",
       "      <td>1</td>\n",
       "    </tr>\n",
       "  </tbody>\n",
       "</table>\n",
       "<p>487 rows × 61 columns</p>\n",
       "</div>"
      ],
      "text/plain": [
       "     1/22/20  1/23/20  1/24/20  1/25/20  1/26/20  1/27/20  1/28/20  1/29/20  \\\n",
       "0          2        3        5        7        8        8       14       14   \n",
       "1          2        1        2        2        4        4        7        7   \n",
       "2          0        1        3        3        4        5        7        7   \n",
       "3          0        0        0        1        1        1        1        1   \n",
       "4          0        0        0        3        4        4        4        7   \n",
       "..       ...      ...      ...      ...      ...      ...      ...      ...   \n",
       "482        0        0        0        0        0        0        0        0   \n",
       "483        0        0        0        0        0        0        0        0   \n",
       "484        0        0        0        0        0        0        0        0   \n",
       "485        0        0        0        0        0        0        0        0   \n",
       "486        0        0        0        0        0        0        0        0   \n",
       "\n",
       "     1/30/20  1/31/20  ...  3/13/20  3/14/20  3/15/20  3/16/20  3/17/20  \\\n",
       "0         14       19  ...       75       82      114      147      177   \n",
       "1         11       15  ...      701      773      839      825      878   \n",
       "2         10       13  ...      200      212      226      243      266   \n",
       "3          1        1  ...        1        1        1        1        1   \n",
       "4          8        8  ...      197      238      428      566      673   \n",
       "..       ...      ...  ...      ...      ...      ...      ...      ...   \n",
       "482        0        0  ...        0        0        0        0        0   \n",
       "483        0        0  ...        0        0        0        0        0   \n",
       "484        0        0  ...        0        0        0        0        0   \n",
       "485        0        0  ...        0        0        0        0        0   \n",
       "486        0        0  ...        0        0        0        0        0   \n",
       "\n",
       "     3/18/20  3/19/20  3/20/20  3/21/20  3/22/20  \n",
       "0        212      272      322      411      599  \n",
       "1        889      924      963     1007     1086  \n",
       "2        313      345      385      432      455  \n",
       "3          1        1        1        1        2  \n",
       "4        790      900     1030     1183     1306  \n",
       "..       ...      ...      ...      ...      ...  \n",
       "482        0        0        0        0        1  \n",
       "483        0        0        0        0        1  \n",
       "484        0        0        0        0        1  \n",
       "485        0        0        0        0        1  \n",
       "486        0        0        0        0        1  \n",
       "\n",
       "[487 rows x 61 columns]"
      ]
     },
     "execution_count": 9,
     "metadata": {},
     "output_type": "execute_result"
    }
   ],
   "source": [
    "data[dates]"
   ]
  },
  {
   "cell_type": "code",
   "execution_count": 10,
   "metadata": {},
   "outputs": [
    {
     "data": {
      "text/plain": [
       "(487, 61)"
      ]
     },
     "execution_count": 10,
     "metadata": {},
     "output_type": "execute_result"
    }
   ],
   "source": [
    "data[dates].shape"
   ]
  },
  {
   "cell_type": "code",
   "execution_count": 11,
   "metadata": {},
   "outputs": [
    {
     "data": {
      "text/plain": [
       "340.9"
      ]
     },
     "execution_count": 11,
     "metadata": {},
     "output_type": "execute_result"
    }
   ],
   "source": [
    "487*.7"
   ]
  },
  {
   "cell_type": "code",
   "execution_count": 12,
   "metadata": {},
   "outputs": [],
   "source": [
    "relevent_dates = data[dates].isin([0]).sum(0) > int(0.7*data.shape[0])\n",
    "relevent_dates = relevent_dates[relevent_dates==False].index.values"
   ]
  },
  {
   "cell_type": "code",
   "execution_count": 16,
   "metadata": {},
   "outputs": [],
   "source": [
    "np.array(['Province/State', 'Country/Region', 'Lat', 'Long']);\n",
    "np.array(relevent_dates)\n",
    "cols = np.append(np.array(['Province/State', 'Country/Region', 'Lat', 'Long']), np.array(relevent_dates), axis=0)"
   ]
  },
  {
   "cell_type": "code",
   "execution_count": 17,
   "metadata": {},
   "outputs": [],
   "source": [
    "data_r = data[cols]"
   ]
  },
  {
   "cell_type": "code",
   "execution_count": null,
   "metadata": {},
   "outputs": [],
   "source": [
    "# relevent_dates refers to cleaned dates while full_dates is for the complte timeframe, \n",
    "# just switch dates to relevent_dates or full_dates and grouped between data_r and data relatively for the data needed"
   ]
  },
  {
   "cell_type": "markdown",
   "metadata": {},
   "source": [
    "**Plotting growth for a country**"
   ]
  },
  {
   "cell_type": "code",
   "execution_count": 18,
   "metadata": {},
   "outputs": [],
   "source": [
    "from matplotlib.dates import DateFormatter"
   ]
  },
  {
   "cell_type": "code",
   "execution_count": 81,
   "metadata": {},
   "outputs": [],
   "source": [
    "def plot_date(df, country=\"India\", days=None):\n",
    "    \n",
    "    start = 4\n",
    "    end = df.shape[1]\n",
    "    \n",
    "    if days:\n",
    "        end = min(start+days, end)\n",
    "    days = end-start\n",
    "    \n",
    "\n",
    "    x = df.columns[start:end]\n",
    "    #x=np.arange(len(x))\n",
    "    index = df[df[\"Country/Region\"]==country].index[0]\n",
    "    y = df.loc[index, :][start:end]\n",
    "    plt.figure(figsize=(7,7))\n",
    "    plt.plot(x, y)\n",
    "    \n",
    "    myFmt = DateFormatter(\"%d\")\n",
    "    plt.gcf().autofmt_xdate()\n",
    "    plt.xlabel(str(days)+\" days\")\n",
    "    plt.ylabel(\"Cases\")\n",
    "    plt.title(country)\n",
    "    \n",
    "    \n",
    "    xmarks=[i for i in range(1,days,5)]\n",
    "    plt.xticks(xmarks, rotation=90)\n",
    "    plt.show()"
   ]
  },
  {
   "cell_type": "code",
   "execution_count": 82,
   "metadata": {},
   "outputs": [
    {
     "data": {
      "image/png": "[encoded data removed]",
      "text/plain": [
       "<Figure size 504x504 with 1 Axes>"
      ]
     },
     "metadata": {
      "needs_background": "light"
     },
     "output_type": "display_data"
    }
   ],
   "source": [
    "plot_date(data_r, \"India\", 60)"
   ]
  },
  {
   "cell_type": "code",
   "execution_count": null,
   "metadata": {},
   "outputs": [],
   "source": []
  },
  {
   "cell_type": "code",
   "execution_count": null,
   "metadata": {},
   "outputs": [],
   "source": []
  },
  {
   "cell_type": "markdown",
   "metadata": {},
   "source": [
    "**Grouping base on countries** (Learnings: Refreshed Grouping)"
   ]
  },
  {
   "cell_type": "code",
   "execution_count": 42,
   "metadata": {},
   "outputs": [],
   "source": [
    "grouped = data.groupby([\"Country/Region\"]).sum().reset_index()"
   ]
  },
  {
   "cell_type": "code",
   "execution_count": 43,
   "metadata": {},
   "outputs": [
    {
     "data": {
      "text/html": [
       "<div>\n",
       "<style scoped>\n",
       "    .dataframe tbody tr th:only-of-type {\n",
       "        vertical-align: middle;\n",
       "    }\n",
       "\n",
       "    .dataframe tbody tr th {\n",
       "        vertical-align: top;\n",
       "    }\n",
       "\n",
       "    .dataframe thead th {\n",
       "        text-align: right;\n",
       "    }\n",
       "</style>\n",
       "<table border=\"1\" class=\"dataframe\">\n",
       "  <thead>\n",
       "    <tr style=\"text-align: right;\">\n",
       "      <th></th>\n",
       "      <th>Country/Region</th>\n",
       "      <th>Lat</th>\n",
       "      <th>Long</th>\n",
       "      <th>1/22/20</th>\n",
       "      <th>1/23/20</th>\n",
       "      <th>1/24/20</th>\n",
       "      <th>1/25/20</th>\n",
       "      <th>1/26/20</th>\n",
       "      <th>1/27/20</th>\n",
       "      <th>1/28/20</th>\n",
       "      <th>...</th>\n",
       "      <th>3/13/20</th>\n",
       "      <th>3/14/20</th>\n",
       "      <th>3/15/20</th>\n",
       "      <th>3/16/20</th>\n",
       "      <th>3/17/20</th>\n",
       "      <th>3/18/20</th>\n",
       "      <th>3/19/20</th>\n",
       "      <th>3/20/20</th>\n",
       "      <th>3/21/20</th>\n",
       "      <th>3/22/20</th>\n",
       "    </tr>\n",
       "  </thead>\n",
       "  <tbody>\n",
       "    <tr>\n",
       "      <th>33</th>\n",
       "      <td>China</td>\n",
       "      <td>1083.3367</td>\n",
       "      <td>3684.4197</td>\n",
       "      <td>548</td>\n",
       "      <td>643</td>\n",
       "      <td>920</td>\n",
       "      <td>1406</td>\n",
       "      <td>2075</td>\n",
       "      <td>2877</td>\n",
       "      <td>5509</td>\n",
       "      <td>...</td>\n",
       "      <td>80945</td>\n",
       "      <td>80977</td>\n",
       "      <td>81003</td>\n",
       "      <td>81033</td>\n",
       "      <td>81058</td>\n",
       "      <td>81102</td>\n",
       "      <td>81156</td>\n",
       "      <td>81250</td>\n",
       "      <td>81305</td>\n",
       "      <td>81397</td>\n",
       "    </tr>\n",
       "  </tbody>\n",
       "</table>\n",
       "<p>1 rows × 64 columns</p>\n",
       "</div>"
      ],
      "text/plain": [
       "   Country/Region        Lat       Long  1/22/20  1/23/20  1/24/20  1/25/20  \\\n",
       "33          China  1083.3367  3684.4197      548      643      920     1406   \n",
       "\n",
       "    1/26/20  1/27/20  1/28/20  ...  3/13/20  3/14/20  3/15/20  3/16/20  \\\n",
       "33     2075     2877     5509  ...    80945    80977    81003    81033   \n",
       "\n",
       "    3/17/20  3/18/20  3/19/20  3/20/20  3/21/20  3/22/20  \n",
       "33    81058    81102    81156    81250    81305    81397  \n",
       "\n",
       "[1 rows x 64 columns]"
      ]
     },
     "execution_count": 43,
     "metadata": {},
     "output_type": "execute_result"
    }
   ],
   "source": [
    "grouped[grouped[\"Country/Region\"]==\"China\"]"
   ]
  },
  {
   "cell_type": "code",
   "execution_count": null,
   "metadata": {},
   "outputs": [],
   "source": []
  },
  {
   "cell_type": "code",
   "execution_count": null,
   "metadata": {},
   "outputs": [],
   "source": []
  },
  {
   "cell_type": "markdown",
   "metadata": {},
   "source": [
    "**Top-n countries with most cases on the last registered date** (Learning: Grouping and pie plotting)"
   ]
  },
  {
   "cell_type": "code",
   "execution_count": 73,
   "metadata": {},
   "outputs": [],
   "source": [
    "def plot_pie_top(grouped_df, k, return_list=False):\n",
    "    \n",
    "    #Top countries with highest numbers till last date\n",
    "    last_date = grouped_df.columns[-1]\n",
    "    top_countries = grouped_df.nlargest(k, last_date)[[\"Country/Region\", last_date]]\n",
    "    \n",
    "    \n",
    "    #Other countries not in top list\n",
    "    remaining_c = [c not in top_countries[\"Country/Region\"].values for c in countries]\n",
    "    remaining = grouped.loc[remaining_c]\n",
    "    rem_sum = remaining.iloc[:, -1].sum()\n",
    "    \n",
    "    #Appending remainig to top list as \"Others\"\n",
    "    top_countries=top_countries.append({\n",
    "        \"Country/Region\":\"Others\",\n",
    "        last_date: rem_sum\n",
    "    }, ignore_index=True)\n",
    "    \n",
    "    #print(top_countries)\n",
    "    \n",
    "    explode  = [0]*(k+1)\n",
    "    explode[1] = 0.1\n",
    "    \n",
    "    plt.figure(figsize=(7,7))\n",
    "    plt.title(\"top \"+ str(k) + \" countries as of \" + str(last_date))\n",
    "    plt.pie(top_countries.iloc[:, 1], \n",
    "            labels=top_countries.iloc[:, 0], \n",
    "            explode=explode,\n",
    "            autopct='%1.1f%%'\n",
    "           )\n",
    "    plt.show()\n",
    "    \n",
    "    if return_list:\n",
    "        return top_countries[\"Country/Region\"].values\n",
    "    "
   ]
  },
  {
   "cell_type": "code",
   "execution_count": 74,
   "metadata": {},
   "outputs": [
    {
     "data": {
      "image/png": "[encoded data removed]",
      "text/plain": [
       "<Figure size 504x504 with 1 Axes>"
      ]
     },
     "metadata": {},
     "output_type": "display_data"
    }
   ],
   "source": [
    "plot_pie_top(grouped, 7)"
   ]
  },
  {
   "cell_type": "markdown",
   "metadata": {},
   "source": [
    "**Findings:** China and Italy combined with US has almost 50% of total cases in the world as of now"
   ]
  },
  {
   "cell_type": "code",
   "execution_count": null,
   "metadata": {},
   "outputs": [],
   "source": []
  },
  {
   "cell_type": "markdown",
   "metadata": {},
   "source": [
    "Lets look at worldwide growth"
   ]
  },
  {
   "cell_type": "code",
   "execution_count": 69,
   "metadata": {},
   "outputs": [],
   "source": [
    "def plot_date_global(df, days=None):\n",
    "    \n",
    "    start = 4\n",
    "    end = df.shape[1]\n",
    "    if days:\n",
    "        end = min(start+days, end)\n",
    "    days = end-start\n",
    "\n",
    "    x = df.columns[start:end]    \n",
    "    y = df.iloc[:, start:end].sum().values\n",
    "    \n",
    "    plt.figure(figsize=(7,7))\n",
    "    plt.plot(x, y)\n",
    "    \n",
    "    myFmt = DateFormatter(\"%d\")\n",
    "    plt.gcf().autofmt_xdate()\n",
    "    plt.xlabel(str(days)+\" days\")\n",
    "    plt.ylabel(\"Cases\")\n",
    "    plt.title(\"Global cases\")\n",
    "    \n",
    "    \n",
    "    xmarks=[i for i in range(1,days,5)]\n",
    "    plt.xticks(xmarks, rotation=30)\n",
    "    \n",
    "    plt.show()"
   ]
  },
  {
   "cell_type": "code",
   "execution_count": 72,
   "metadata": {},
   "outputs": [
    {
     "data": {
      "image/png": "[encoded data removed]",
      "text/plain": [
       "<Figure size 504x504 with 1 Axes>"
      ]
     },
     "metadata": {
      "needs_background": "light"
     },
     "output_type": "display_data"
    }
   ],
   "source": [
    "plot_date_global(grouped, 20)"
   ]
  },
  {
   "cell_type": "markdown",
   "metadata": {},
   "source": [
    "Lets see what were the situations on a particular country on a given date"
   ]
  },
  {
   "cell_type": "code",
   "execution_count": null,
   "metadata": {},
   "outputs": [],
   "source": []
  },
  {
   "cell_type": "code",
   "execution_count": null,
   "metadata": {},
   "outputs": [],
   "source": []
  },
  {
   "cell_type": "markdown",
   "metadata": {},
   "source": [
    "Let's get some insights on how mane cases were there on a day"
   ]
  },
  {
   "cell_type": "code",
   "execution_count": 56,
   "metadata": {},
   "outputs": [],
   "source": [
    "def plot_on_date(df, date, countries=None):    \n",
    "    \n",
    "    top_countries = df.nlargest(5, date)[[\"Country/Region\", date]]\n",
    "    \n",
    "    cs = top_countries[\"Country/Region\"].values\n",
    "    \n",
    "    if type(countries) == np.ndarray:\n",
    "        cs = countries\n",
    "        \n",
    "    filtered = df[df[\"Country/Region\"].isin(cs)]\n",
    "    \n",
    "    on_date = filtered[[\"Country/Region\", date]].sort_values([date])\n",
    "    print(on_date)\n",
    "    conn= on_date.iloc[:, 0].values\n",
    "    vals = on_date.iloc[:, 1].values\n",
    "    plt.figure(figsize=(7,7))\n",
    "    plt.bar(conn, vals)\n",
    "    plt.xticks(rotation=\"30\")\n",
    "    plt.title(\"Day: \"+ date)\n",
    "    plt.ylabel(\"Cases\")\n",
    "    plt.xlabel(\"Countries\")\n",
    "    plt.show()\n",
    "    "
   ]
  },
  {
   "cell_type": "code",
   "execution_count": 57,
   "metadata": {},
   "outputs": [
    {
     "name": "stdout",
     "output_type": "stream",
     "text": [
      "    Country/Region  3/22/20\n",
      "63         Germany    24873\n",
      "145          Spain    28768\n",
      "160             US    33272\n",
      "81           Italy    59138\n",
      "33           China    81397\n"
     ]
    },
    {
     "data": {
      "image/png": "[encoded data removed]",
      "text/plain": [
       "<Figure size 504x504 with 1 Axes>"
      ]
     },
     "metadata": {
      "needs_background": "light"
     },
     "output_type": "display_data"
    }
   ],
   "source": [
    "plot_on_date(grouped, relevent_dates[-1] )"
   ]
  },
  {
   "cell_type": "code",
   "execution_count": null,
   "metadata": {},
   "outputs": [],
   "source": []
  },
  {
   "cell_type": "markdown",
   "metadata": {},
   "source": [
    "Let's check out the rates at which cases are increasing/decreasing"
   ]
  },
  {
   "cell_type": "code",
   "execution_count": 85,
   "metadata": {},
   "outputs": [],
   "source": [
    "#for a single country, Can be used for plotting multiple countries!\n",
    "def plot_difference(df, country, days):\n",
    "    start = 4\n",
    "    end = df.shape[1]\n",
    "    \n",
    "    if days:\n",
    "        end = min(start+days, end)\n",
    "    days = end-start\n",
    "    \n",
    "    x = df.columns[start:end]\n",
    "    index = df[df[\"Country/Region\"]==country].index[0]\n",
    "    y = df.loc[index, :][start:end]\n",
    "    #print(y)\n",
    "    plt.figure(figsize=(7,7))\n",
    "    plt.plot(x, y)\n",
    "    \n",
    "    myFmt = DateFormatter(\"%d\")\n",
    "    plt.gcf().autofmt_xdate()\n",
    "    plt.xlabel(str(days)+\" days\")\n",
    "    plt.ylabel(\"Difference\")\n",
    "    plt.title(\"Daily difference in \"+country)\n",
    "    \n",
    "    xmarks=[i for i in range(1,days,2)]\n",
    "    plt.xticks(xmarks, rotation=90)\n",
    "    plt.show()"
   ]
  },
  {
   "cell_type": "code",
   "execution_count": 86,
   "metadata": {},
   "outputs": [],
   "source": [
    "dates = relevent_dates\n",
    "grouped = data_r.groupby([\"Country/Region\"]).sum().reset_index()"
   ]
  },
  {
   "cell_type": "code",
   "execution_count": 87,
   "metadata": {},
   "outputs": [
    {
     "data": {
      "text/html": [
       "<div>\n",
       "<style scoped>\n",
       "    .dataframe tbody tr th:only-of-type {\n",
       "        vertical-align: middle;\n",
       "    }\n",
       "\n",
       "    .dataframe tbody tr th {\n",
       "        vertical-align: top;\n",
       "    }\n",
       "\n",
       "    .dataframe thead th {\n",
       "        text-align: right;\n",
       "    }\n",
       "</style>\n",
       "<table border=\"1\" class=\"dataframe\">\n",
       "  <thead>\n",
       "    <tr style=\"text-align: right;\">\n",
       "      <th></th>\n",
       "      <th>Country/Region</th>\n",
       "      <th>Lat</th>\n",
       "      <th>Long</th>\n",
       "      <th>3/5/20</th>\n",
       "      <th>3/6/20</th>\n",
       "      <th>3/7/20</th>\n",
       "      <th>3/8/20</th>\n",
       "      <th>3/9/20</th>\n",
       "      <th>3/10/20</th>\n",
       "      <th>3/11/20</th>\n",
       "      <th>...</th>\n",
       "      <th>3/13/20</th>\n",
       "      <th>3/14/20</th>\n",
       "      <th>3/15/20</th>\n",
       "      <th>3/16/20</th>\n",
       "      <th>3/17/20</th>\n",
       "      <th>3/18/20</th>\n",
       "      <th>3/19/20</th>\n",
       "      <th>3/20/20</th>\n",
       "      <th>3/21/20</th>\n",
       "      <th>3/22/20</th>\n",
       "    </tr>\n",
       "  </thead>\n",
       "  <tbody>\n",
       "    <tr>\n",
       "      <th>33</th>\n",
       "      <td>China</td>\n",
       "      <td>1083.3367</td>\n",
       "      <td>3684.4197</td>\n",
       "      <td>151</td>\n",
       "      <td>153</td>\n",
       "      <td>80</td>\n",
       "      <td>53</td>\n",
       "      <td>37</td>\n",
       "      <td>27</td>\n",
       "      <td>34</td>\n",
       "      <td>...</td>\n",
       "      <td>13</td>\n",
       "      <td>32</td>\n",
       "      <td>26</td>\n",
       "      <td>30</td>\n",
       "      <td>25</td>\n",
       "      <td>44</td>\n",
       "      <td>54</td>\n",
       "      <td>94</td>\n",
       "      <td>55</td>\n",
       "      <td>92</td>\n",
       "    </tr>\n",
       "  </tbody>\n",
       "</table>\n",
       "<p>1 rows × 21 columns</p>\n",
       "</div>"
      ],
      "text/plain": [
       "   Country/Region        Lat       Long  3/5/20  3/6/20  3/7/20  3/8/20  \\\n",
       "33          China  1083.3367  3684.4197     151     153      80      53   \n",
       "\n",
       "    3/9/20  3/10/20  3/11/20  ...  3/13/20  3/14/20  3/15/20  3/16/20  \\\n",
       "33      37       27       34  ...       13       32       26       30   \n",
       "\n",
       "    3/17/20  3/18/20  3/19/20  3/20/20  3/21/20  3/22/20  \n",
       "33       25       44       54       94       55       92  \n",
       "\n",
       "[1 rows x 21 columns]"
      ]
     },
     "execution_count": 87,
     "metadata": {},
     "output_type": "execute_result"
    }
   ],
   "source": [
    "cols = [c for c in grouped.columns if c not in [dates[0]]]\n",
    "daily_difference = grouped.loc[:, cols].copy()\n",
    "daily_difference.loc[:, cols[3:]] = grouped[dates[1:]].values-grouped[dates[:-1]].values\n",
    "daily_difference[daily_difference[\"Country/Region\"]==\"China\"]"
   ]
  },
  {
   "cell_type": "code",
   "execution_count": 88,
   "metadata": {},
   "outputs": [
    {
     "data": {
      "image/png": "[encoded data removed]",
      "text/plain": [
       "<Figure size 504x504 with 1 Axes>"
      ]
     },
     "metadata": {
      "needs_background": "light"
     },
     "output_type": "display_data"
    }
   ],
   "source": [
    "plot_difference(daily_difference, \"China\", 60)"
   ]
  },
  {
   "cell_type": "code",
   "execution_count": null,
   "metadata": {},
   "outputs": [],
   "source": []
  },
  {
   "cell_type": "markdown",
   "metadata": {},
   "source": [
    "!!!!China had an increase of 15136 cases on 2/13/20!!! maybe the highest in a day (when used all dates)\n",
    "<img src=\"china_spike_15k.png\">"
   ]
  },
  {
   "cell_type": "code",
   "execution_count": null,
   "metadata": {},
   "outputs": [],
   "source": []
  },
  {
   "cell_type": "markdown",
   "metadata": {},
   "source": [
    "Contnent mapping source\n",
    "https://github.com/dbouquin/IS_608/blob/master/NanosatDB_munging/Countries-Continents.csv"
   ]
  },
  {
   "cell_type": "code",
   "execution_count": 93,
   "metadata": {},
   "outputs": [],
   "source": [
    "c2c = pd.read_csv('c2c.csv')"
   ]
  },
  {
   "cell_type": "code",
   "execution_count": 102,
   "metadata": {},
   "outputs": [
    {
     "data": {
      "text/html": [
       "<div>\n",
       "<style scoped>\n",
       "    .dataframe tbody tr th:only-of-type {\n",
       "        vertical-align: middle;\n",
       "    }\n",
       "\n",
       "    .dataframe tbody tr th {\n",
       "        vertical-align: top;\n",
       "    }\n",
       "\n",
       "    .dataframe thead th {\n",
       "        text-align: right;\n",
       "    }\n",
       "</style>\n",
       "<table border=\"1\" class=\"dataframe\">\n",
       "  <thead>\n",
       "    <tr style=\"text-align: right;\">\n",
       "      <th></th>\n",
       "      <th>Continent</th>\n",
       "      <th>Country</th>\n",
       "    </tr>\n",
       "  </thead>\n",
       "  <tbody>\n",
       "    <tr>\n",
       "      <th>0</th>\n",
       "      <td>Africa</td>\n",
       "      <td>Algeria</td>\n",
       "    </tr>\n",
       "    <tr>\n",
       "      <th>1</th>\n",
       "      <td>Africa</td>\n",
       "      <td>Angola</td>\n",
       "    </tr>\n",
       "    <tr>\n",
       "      <th>2</th>\n",
       "      <td>Africa</td>\n",
       "      <td>Benin</td>\n",
       "    </tr>\n",
       "    <tr>\n",
       "      <th>3</th>\n",
       "      <td>Africa</td>\n",
       "      <td>Botswana</td>\n",
       "    </tr>\n",
       "    <tr>\n",
       "      <th>4</th>\n",
       "      <td>Africa</td>\n",
       "      <td>Burkina</td>\n",
       "    </tr>\n",
       "  </tbody>\n",
       "</table>\n",
       "</div>"
      ],
      "text/plain": [
       "  Continent   Country\n",
       "0    Africa   Algeria\n",
       "1    Africa    Angola\n",
       "2    Africa     Benin\n",
       "3    Africa  Botswana\n",
       "4    Africa   Burkina"
      ]
     },
     "execution_count": 102,
     "metadata": {},
     "output_type": "execute_result"
    }
   ],
   "source": [
    "c2c.head()"
   ]
  },
  {
   "cell_type": "code",
   "execution_count": 126,
   "metadata": {},
   "outputs": [],
   "source": [
    "available_c = {}\n",
    "\n",
    "for [continent, country] in c2c.values:\n",
    "    if country in countries:\n",
    "        #print(country)\n",
    "        available_c[country]=continent"
   ]
  },
  {
   "cell_type": "code",
   "execution_count": null,
   "metadata": {},
   "outputs": [],
   "source": [
    "available_c"
   ]
  },
  {
   "cell_type": "code",
   "execution_count": null,
   "metadata": {},
   "outputs": [],
   "source": [
    "grouped_cont = grouped[\"continent\"]"
   ]
  },
  {
   "cell_type": "code",
   "execution_count": 130,
   "metadata": {},
   "outputs": [],
   "source": [
    "grouped[\"Continent\"]= grouped[\"Country/Region\"].map(available_c)"
   ]
  },
  {
   "cell_type": "code",
   "execution_count": 136,
   "metadata": {},
   "outputs": [],
   "source": [
    "grouped_cnt = grouped.groupby([\"Continent\"]).sum().reset_index()"
   ]
  },
  {
   "cell_type": "code",
   "execution_count": 137,
   "metadata": {},
   "outputs": [
    {
     "data": {
      "text/html": [
       "<div>\n",
       "<style scoped>\n",
       "    .dataframe tbody tr th:only-of-type {\n",
       "        vertical-align: middle;\n",
       "    }\n",
       "\n",
       "    .dataframe tbody tr th {\n",
       "        vertical-align: top;\n",
       "    }\n",
       "\n",
       "    .dataframe thead th {\n",
       "        text-align: right;\n",
       "    }\n",
       "</style>\n",
       "<table border=\"1\" class=\"dataframe\">\n",
       "  <thead>\n",
       "    <tr style=\"text-align: right;\">\n",
       "      <th></th>\n",
       "      <th>Continent</th>\n",
       "      <th>Lat</th>\n",
       "      <th>Long</th>\n",
       "      <th>3/4/20</th>\n",
       "      <th>3/5/20</th>\n",
       "      <th>3/6/20</th>\n",
       "      <th>3/7/20</th>\n",
       "      <th>3/8/20</th>\n",
       "      <th>3/9/20</th>\n",
       "      <th>3/10/20</th>\n",
       "      <th>...</th>\n",
       "      <th>3/13/20</th>\n",
       "      <th>3/14/20</th>\n",
       "      <th>3/15/20</th>\n",
       "      <th>3/16/20</th>\n",
       "      <th>3/17/20</th>\n",
       "      <th>3/18/20</th>\n",
       "      <th>3/19/20</th>\n",
       "      <th>3/20/20</th>\n",
       "      <th>3/21/20</th>\n",
       "      <th>3/22/20</th>\n",
       "    </tr>\n",
       "  </thead>\n",
       "  <tbody>\n",
       "    <tr>\n",
       "      <th>0</th>\n",
       "      <td>Africa</td>\n",
       "      <td>150.3716</td>\n",
       "      <td>725.8943</td>\n",
       "      <td>21</td>\n",
       "      <td>24</td>\n",
       "      <td>43</td>\n",
       "      <td>43</td>\n",
       "      <td>83</td>\n",
       "      <td>91</td>\n",
       "      <td>103</td>\n",
       "      <td>...</td>\n",
       "      <td>172</td>\n",
       "      <td>248</td>\n",
       "      <td>305</td>\n",
       "      <td>380</td>\n",
       "      <td>458</td>\n",
       "      <td>568</td>\n",
       "      <td>720</td>\n",
       "      <td>896</td>\n",
       "      <td>1064</td>\n",
       "      <td>1299</td>\n",
       "    </tr>\n",
       "    <tr>\n",
       "      <th>1</th>\n",
       "      <td>Asia</td>\n",
       "      <td>1946.0168</td>\n",
       "      <td>6482.7025</td>\n",
       "      <td>89744</td>\n",
       "      <td>91015</td>\n",
       "      <td>93054</td>\n",
       "      <td>94789</td>\n",
       "      <td>96001</td>\n",
       "      <td>96869</td>\n",
       "      <td>98060</td>\n",
       "      <td>...</td>\n",
       "      <td>102949</td>\n",
       "      <td>104840</td>\n",
       "      <td>106752</td>\n",
       "      <td>108310</td>\n",
       "      <td>110354</td>\n",
       "      <td>112356</td>\n",
       "      <td>114767</td>\n",
       "      <td>117003</td>\n",
       "      <td>119655</td>\n",
       "      <td>122657</td>\n",
       "    </tr>\n",
       "    <tr>\n",
       "      <th>2</th>\n",
       "      <td>Europe</td>\n",
       "      <td>2481.4114</td>\n",
       "      <td>396.4835</td>\n",
       "      <td>4336</td>\n",
       "      <td>5736</td>\n",
       "      <td>7493</td>\n",
       "      <td>9637</td>\n",
       "      <td>12174</td>\n",
       "      <td>14960</td>\n",
       "      <td>18351</td>\n",
       "      <td>...</td>\n",
       "      <td>38165</td>\n",
       "      <td>46321</td>\n",
       "      <td>54661</td>\n",
       "      <td>65376</td>\n",
       "      <td>76437</td>\n",
       "      <td>89991</td>\n",
       "      <td>108143</td>\n",
       "      <td>128470</td>\n",
       "      <td>149774</td>\n",
       "      <td>168121</td>\n",
       "    </tr>\n",
       "    <tr>\n",
       "      <th>3</th>\n",
       "      <td>North America</td>\n",
       "      <td>10411.2345</td>\n",
       "      <td>-25399.7381</td>\n",
       "      <td>188</td>\n",
       "      <td>260</td>\n",
       "      <td>320</td>\n",
       "      <td>465</td>\n",
       "      <td>599</td>\n",
       "      <td>681</td>\n",
       "      <td>1060</td>\n",
       "      <td>...</td>\n",
       "      <td>2454</td>\n",
       "      <td>3044</td>\n",
       "      <td>3897</td>\n",
       "      <td>5231</td>\n",
       "      <td>7154</td>\n",
       "      <td>8738</td>\n",
       "      <td>14874</td>\n",
       "      <td>20595</td>\n",
       "      <td>27543</td>\n",
       "      <td>35742</td>\n",
       "    </tr>\n",
       "    <tr>\n",
       "      <th>4</th>\n",
       "      <td>Oceania</td>\n",
       "      <td>-285.4548</td>\n",
       "      <td>1766.4068</td>\n",
       "      <td>55</td>\n",
       "      <td>58</td>\n",
       "      <td>64</td>\n",
       "      <td>68</td>\n",
       "      <td>81</td>\n",
       "      <td>96</td>\n",
       "      <td>112</td>\n",
       "      <td>...</td>\n",
       "      <td>205</td>\n",
       "      <td>256</td>\n",
       "      <td>305</td>\n",
       "      <td>385</td>\n",
       "      <td>464</td>\n",
       "      <td>588</td>\n",
       "      <td>710</td>\n",
       "      <td>832</td>\n",
       "      <td>1125</td>\n",
       "      <td>1383</td>\n",
       "    </tr>\n",
       "    <tr>\n",
       "      <th>5</th>\n",
       "      <td>South America</td>\n",
       "      <td>-151.6889</td>\n",
       "      <td>-773.7467</td>\n",
       "      <td>16</td>\n",
       "      <td>22</td>\n",
       "      <td>34</td>\n",
       "      <td>40</td>\n",
       "      <td>62</td>\n",
       "      <td>69</td>\n",
       "      <td>91</td>\n",
       "      <td>...</td>\n",
       "      <td>293</td>\n",
       "      <td>358</td>\n",
       "      <td>421</td>\n",
       "      <td>637</td>\n",
       "      <td>920</td>\n",
       "      <td>1155</td>\n",
       "      <td>1643</td>\n",
       "      <td>2259</td>\n",
       "      <td>2964</td>\n",
       "      <td>4096</td>\n",
       "    </tr>\n",
       "  </tbody>\n",
       "</table>\n",
       "<p>6 rows × 22 columns</p>\n",
       "</div>"
      ],
      "text/plain": [
       "       Continent         Lat        Long  3/4/20  3/5/20  3/6/20  3/7/20  \\\n",
       "0         Africa    150.3716    725.8943      21      24      43      43   \n",
       "1           Asia   1946.0168   6482.7025   89744   91015   93054   94789   \n",
       "2         Europe   2481.4114    396.4835    4336    5736    7493    9637   \n",
       "3  North America  10411.2345 -25399.7381     188     260     320     465   \n",
       "4        Oceania   -285.4548   1766.4068      55      58      64      68   \n",
       "5  South America   -151.6889   -773.7467      16      22      34      40   \n",
       "\n",
       "   3/8/20  3/9/20  3/10/20  ...  3/13/20  3/14/20  3/15/20  3/16/20  3/17/20  \\\n",
       "0      83      91      103  ...      172      248      305      380      458   \n",
       "1   96001   96869    98060  ...   102949   104840   106752   108310   110354   \n",
       "2   12174   14960    18351  ...    38165    46321    54661    65376    76437   \n",
       "3     599     681     1060  ...     2454     3044     3897     5231     7154   \n",
       "4      81      96      112  ...      205      256      305      385      464   \n",
       "5      62      69       91  ...      293      358      421      637      920   \n",
       "\n",
       "   3/18/20  3/19/20  3/20/20  3/21/20  3/22/20  \n",
       "0      568      720      896     1064     1299  \n",
       "1   112356   114767   117003   119655   122657  \n",
       "2    89991   108143   128470   149774   168121  \n",
       "3     8738    14874    20595    27543    35742  \n",
       "4      588      710      832     1125     1383  \n",
       "5     1155     1643     2259     2964     4096  \n",
       "\n",
       "[6 rows x 22 columns]"
      ]
     },
     "execution_count": 137,
     "metadata": {},
     "output_type": "execute_result"
    }
   ],
   "source": [
    "grouped_cnt"
   ]
  },
  {
   "cell_type": "code",
   "execution_count": 157,
   "metadata": {},
   "outputs": [],
   "source": [
    "def plot_on_continent(df, date):    \n",
    "    \n",
    "    \n",
    "    on_date = df[[\"Continent\", date]].sort_values([date])\n",
    "    print(on_date)\n",
    "    conn= on_date.iloc[:, 0].values\n",
    "    vals = on_date.iloc[:, 1].values\n",
    "    plt.figure(figsize=(7,7))\n",
    "    plt.bar(conn, vals)\n",
    "    plt.xticks(rotation=\"30\")\n",
    "    plt.title(\"Day: \"+ date)\n",
    "    plt.ylabel(\"Cases\")\n",
    "    plt.xlabel(\"Continents\")\n",
    "    plt.show()\n",
    "    "
   ]
  },
  {
   "cell_type": "code",
   "execution_count": 158,
   "metadata": {},
   "outputs": [
    {
     "name": "stdout",
     "output_type": "stream",
     "text": [
      "       Continent  3/22/20\n",
      "0         Africa     1299\n",
      "4        Oceania     1383\n",
      "5  South America     4096\n",
      "3  North America    35742\n",
      "1           Asia   122657\n",
      "2         Europe   168121\n"
     ]
    },
    {
     "data": {
      "image/png": "[encoded data removed]",
      "text/plain": [
       "<Figure size 504x504 with 1 Axes>"
      ]
     },
     "metadata": {
      "needs_background": "light"
     },
     "output_type": "display_data"
    }
   ],
   "source": [
    "plot_on_continent(grouped_cnt, relevent_dates[-1])"
   ]
  },
  {
   "cell_type": "code",
   "execution_count": null,
   "metadata": {},
   "outputs": [],
   "source": []
  },
  {
   "cell_type": "code",
   "execution_count": null,
   "metadata": {},
   "outputs": [],
   "source": []
  },
  {
   "cell_type": "code",
   "execution_count": null,
   "metadata": {},
   "outputs": [],
   "source": []
  },
  {
   "cell_type": "code",
   "execution_count": null,
   "metadata": {},
   "outputs": [],
   "source": []
  },
  {
   "cell_type": "code",
   "execution_count": null,
   "metadata": {},
   "outputs": [],
   "source": []
  }
 ],
 "metadata": {
  "kernelspec": {
   "display_name": "Python 3",
   "language": "python",
   "name": "python3"
  },
  "language_info": {
   "codemirror_mode": {
    "name": "ipython",
    "version": 3
   },
   "file_extension": ".py",
   "mimetype": "text/x-python",
   "name": "python",
   "nbconvert_exporter": "python",
   "pygments_lexer": "ipython3",
   "version": "3.7.4"
  }
 },
 "nbformat": 4,
 "nbformat_minor": 4
}
