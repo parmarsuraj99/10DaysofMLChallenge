{
  "nbformat": 4,
  "nbformat_minor": 0,
  "metadata": {
    "colab": {
      "name": "Day4_Unsupervised_learning.ipynb",
      "provenance": [],
      "collapsed_sections": [],
      "authorship_tag": "ABX9TyM9k9jgC/pPaR+VfoRA0VbV",
      "include_colab_link": true
    },
    "kernelspec": {
      "name": "python3",
      "display_name": "Python 3"
    }
  },
  "cells": [
    {
      "cell_type": "markdown",
      "metadata": {
        "id": "view-in-github",
        "colab_type": "text"
      },
      "source": [
        "<a href=\"https://colab.research.google.com/github/parmarsuraj99/10DaysofMLChallenge/blob/master/day4/Day4_Unsupervised_learning.ipynb\" target=\"_parent\"><img src=\"https://colab.research.google.com/assets/colab-badge.svg\" alt=\"Open In Colab\"/></a>"
      ]
    },
    {
      "cell_type": "code",
      "metadata": {
        "id": "87HYLEe00yZj",
        "colab_type": "code",
        "colab": {}
      },
      "source": [
        "!mkdir -p ~/.kaggle\n",
        "!cp kaggle.json ~/.kaggle/\n",
        "!chmod 600 /root/.kaggle/kaggle.json"
      ],
      "execution_count": 0,
      "outputs": []
    },
    {
      "cell_type": "code",
      "metadata": {
        "id": "hVuTgG31zH66",
        "colab_type": "code",
        "outputId": "ecae6cc2-0b48-4500-92d3-6d5f486b3ddd",
        "colab": {
          "base_uri": "https://localhost:8080/",
          "height": 257
        }
      },
      "source": [
        "!kaggle competitions download -c expedia-personalized-sort"
      ],
      "execution_count": 0,
      "outputs": [
        {
          "output_type": "stream",
          "text": [
            "Warning: Looks like you're using an outdated API Version, please consider updating (server 1.5.6 / client 1.5.4)\n",
            "Downloading data.zip to /content\n",
            " 99% 409M/414M [00:06<00:00, 69.1MB/s]\n",
            "100% 414M/414M [00:06<00:00, 62.6MB/s]\n",
            "Downloading randomBenchmark.zip to /content\n",
            " 52% 14.0M/27.2M [00:00<00:01, 13.5MB/s]\n",
            "100% 27.2M/27.2M [00:00<00:00, 39.7MB/s]\n",
            "Downloading basicPythonBenchmark.zip to /content\n",
            " 33% 9.00M/27.1M [00:01<00:02, 7.65MB/s]\n",
            "100% 27.1M/27.1M [00:01<00:00, 23.4MB/s]\n",
            "Downloading testOrderBenchmark.zip to /content\n",
            " 19% 5.00M/26.0M [00:00<00:02, 9.40MB/s]\n",
            "100% 26.0M/26.0M [00:00<00:00, 40.9MB/s]\n"
          ],
          "name": "stdout"
        }
      ]
    },
    {
      "cell_type": "code",
      "metadata": {
        "id": "PtA4RGUo0xuc",
        "colab_type": "code",
        "colab": {}
      },
      "source": [
        "import os\n",
        "import gc\n",
        "import glob\n",
        "import numpy as np\n",
        "import pandas as pd\n",
        "import  matplotlib.pyplot as plt"
      ],
      "execution_count": 0,
      "outputs": []
    },
    {
      "cell_type": "code",
      "metadata": {
        "id": "TX4VjTnw09l3",
        "colab_type": "code",
        "outputId": "520740db-a622-42be-b0bb-d814c86de035",
        "colab": {
          "base_uri": "https://localhost:8080/",
          "height": 90
        }
      },
      "source": [
        "files = glob.glob(\"*.zip\")\n",
        "files"
      ],
      "execution_count": 179,
      "outputs": [
        {
          "output_type": "execute_result",
          "data": {
            "text/plain": [
              "['testOrderBenchmark.zip',\n",
              " 'basicPythonBenchmark.zip',\n",
              " 'randomBenchmark.zip',\n",
              " 'data.zip']"
            ]
          },
          "metadata": {
            "tags": []
          },
          "execution_count": 179
        }
      ]
    },
    {
      "cell_type": "code",
      "metadata": {
        "id": "sJjUsOhA09jA",
        "colab_type": "code",
        "outputId": "3dabe14a-c42c-4510-e6aa-a45e18e265b3",
        "colab": {
          "base_uri": "https://localhost:8080/",
          "height": 183
        }
      },
      "source": [
        "\n",
        "!unzip testOrderBenchmark.zip -d data\n",
        "!unzip basicPythonBenchmark.zip -d data\n",
        "!unzip randomBenchmark.zip -d data\n",
        "!unzip data.zip -d data"
      ],
      "execution_count": 0,
      "outputs": [
        {
          "output_type": "stream",
          "text": [
            "Archive:  testOrderBenchmark.zip\n",
            "  inflating: data/testOrderBenchmark.csv  \n",
            "Archive:  basicPythonBenchmark.zip\n",
            "  inflating: data/basicPythonBenchmark.csv  \n",
            "Archive:  randomBenchmark.zip\n",
            "  inflating: data/randomBenchmark.csv  \n",
            "Archive:  data.zip\n",
            "  inflating: data/test.csv           \n",
            "  inflating: data/train.csv          \n"
          ],
          "name": "stdout"
        }
      ]
    },
    {
      "cell_type": "code",
      "metadata": {
        "id": "t_CTrcQf09hA",
        "colab_type": "code",
        "colab": {}
      },
      "source": [
        "csvs = glob.glob(\"data/*.csv\")"
      ],
      "execution_count": 0,
      "outputs": []
    },
    {
      "cell_type": "code",
      "metadata": {
        "id": "0td6tB1W2ZVg",
        "colab_type": "code",
        "outputId": "824a88d1-cfb5-41e1-c7f5-500eb7699c7a",
        "colab": {
          "base_uri": "https://localhost:8080/",
          "height": 109
        }
      },
      "source": [
        "csvs"
      ],
      "execution_count": 0,
      "outputs": [
        {
          "output_type": "execute_result",
          "data": {
            "text/plain": [
              "['data/train.csv',\n",
              " 'data/basicPythonBenchmark.csv',\n",
              " 'data/test.csv',\n",
              " 'data/testOrderBenchmark.csv',\n",
              " 'data/randomBenchmark.csv']"
            ]
          },
          "metadata": {
            "tags": []
          },
          "execution_count": 7
        }
      ]
    },
    {
      "cell_type": "code",
      "metadata": {
        "id": "oP0ZD8Xt3Bo-",
        "colab_type": "code",
        "colab": {}
      },
      "source": [
        "train = pd.read_csv(\"data/train.csv\" ,nrows=300000)"
      ],
      "execution_count": 0,
      "outputs": []
    },
    {
      "cell_type": "code",
      "metadata": {
        "id": "Ck97KPLLLcy1",
        "colab_type": "code",
        "colab": {}
      },
      "source": [
        "test = pd.read_csv(\"/content/data/test.csv\")"
      ],
      "execution_count": 0,
      "outputs": []
    },
    {
      "cell_type": "code",
      "metadata": {
        "id": "ILQ6RJ3XMz4v",
        "colab_type": "code",
        "colab": {}
      },
      "source": [
        "train[\"date_time\"] = pd.to_datetime(train[\"date_time\"])\n",
        "props = {}\n",
        "for prop in [\"month\", \"day\", \"hour\", \"minute\", \"dayofweek\", \"quarter\"]:\n",
        "    props[prop] = getattr(train[\"date_time\"].dt, prop)\n",
        "train = train.join(pd.DataFrame(props))\n",
        "\n",
        "\n",
        "test[\"date_time\"] = pd.to_datetime(test[\"date_time\"])\n",
        "props = {}\n",
        "for prop in [\"month\", \"day\", \"hour\", \"minute\", \"dayofweek\", \"quarter\"]:\n",
        "    props[prop] = getattr(test[\"date_time\"].dt, prop)\n",
        "test = test.join(pd.DataFrame(props))"
      ],
      "execution_count": 0,
      "outputs": []
    },
    {
      "cell_type": "code",
      "metadata": {
        "id": "zCvRJdSo3BmZ",
        "colab_type": "code",
        "colab": {}
      },
      "source": [
        "train.fillna(0, inplace=True)\n",
        "\n",
        "train_sample = train.fillna(value=0)\n",
        "\n",
        "feature_names = list(train_sample.columns)\n",
        "feature_names.remove(\"click_bool\")\n",
        "feature_names.remove(\"booking_bool\")\n",
        "feature_names.remove(\"gross_bookings_usd\")\n",
        "feature_names.remove(\"date_time\")\n",
        "feature_names.remove(\"position\")\n",
        "\n",
        "features = train_sample[feature_names].values"
      ],
      "execution_count": 0,
      "outputs": []
    },
    {
      "cell_type": "code",
      "metadata": {
        "id": "sGxSBds-3A6o",
        "colab_type": "code",
        "colab": {}
      },
      "source": [
        "from sklearn.decomposition import PCA\n",
        "from sklearn.cluster import KMeans\n",
        "from sklearn.preprocessing import StandardScaler"
      ],
      "execution_count": 0,
      "outputs": []
    },
    {
      "cell_type": "code",
      "metadata": {
        "id": "bZsUfSmLWEbv",
        "colab_type": "code",
        "colab": {}
      },
      "source": [
        "scaler = StandardScaler()"
      ],
      "execution_count": 0,
      "outputs": []
    },
    {
      "cell_type": "code",
      "metadata": {
        "id": "jCJYe9jrVzgt",
        "colab_type": "code",
        "colab": {}
      },
      "source": [
        "features = scaler.fit_transform(features)"
      ],
      "execution_count": 0,
      "outputs": []
    },
    {
      "cell_type": "code",
      "metadata": {
        "id": "EJ5UG8bo-ZEJ",
        "colab_type": "code",
        "colab": {
          "base_uri": "https://localhost:8080/",
          "height": 54
        },
        "outputId": "dd588e01-6a3d-4ca1-f2c6-6f5e92a92516"
      },
      "source": [
        "pca = PCA(n_components=10, random_state=42)\n",
        "pca.fit(features)"
      ],
      "execution_count": 156,
      "outputs": [
        {
          "output_type": "execute_result",
          "data": {
            "text/plain": [
              "PCA(copy=True, iterated_power='auto', n_components=10, random_state=42,\n",
              "    svd_solver='auto', tol=0.0, whiten=False)"
            ]
          },
          "metadata": {
            "tags": []
          },
          "execution_count": 156
        }
      ]
    },
    {
      "cell_type": "code",
      "metadata": {
        "id": "jEUw1sEJ-VO_",
        "colab_type": "code",
        "colab": {}
      },
      "source": [
        "op = pca.transform(features)"
      ],
      "execution_count": 0,
      "outputs": []
    },
    {
      "cell_type": "code",
      "metadata": {
        "id": "L-tDuMOU-YE2",
        "colab_type": "code",
        "colab": {
          "base_uri": "https://localhost:8080/",
          "height": 35
        },
        "outputId": "7c275962-9f4b-4778-e216-69837d2b3602"
      },
      "source": [
        "op.shape"
      ],
      "execution_count": 158,
      "outputs": [
        {
          "output_type": "execute_result",
          "data": {
            "text/plain": [
              "(300000, 10)"
            ]
          },
          "metadata": {
            "tags": []
          },
          "execution_count": 158
        }
      ]
    },
    {
      "cell_type": "code",
      "metadata": {
        "id": "raAxvZklWy0Q",
        "colab_type": "code",
        "colab": {
          "base_uri": "https://localhost:8080/",
          "height": 283
        },
        "outputId": "8a8f719c-f893-4ed2-9eab-742193815904"
      },
      "source": [
        "plt.scatter(op[:, 0], op[:, 1])"
      ],
      "execution_count": 159,
      "outputs": [
        {
          "output_type": "execute_result",
          "data": {
            "text/plain": [
              "<matplotlib.collections.PathCollection at 0x7f2f9549a390>"
            ]
          },
          "metadata": {
            "tags": []
          },
          "execution_count": 159
        },
        {
          "output_type": "display_data",
          "data": {
            "image/png": "[encoded data removed]",
            "text/plain": [
              "<Figure size 432x288 with 1 Axes>"
            ]
          },
          "metadata": {
            "tags": []
          }
        }
      ]
    },
    {
      "cell_type": "code",
      "metadata": {
        "id": "LAnJMhGtHlGM",
        "colab_type": "code",
        "colab": {
          "base_uri": "https://localhost:8080/",
          "height": 419
        },
        "outputId": "9fc12f04-45d5-4100-9982-7b44ae6abcff"
      },
      "source": [
        "ks = range(1, 20, 3)\n",
        "inertias = []\n",
        "for k in ks:\n",
        "    print(k)\n",
        "    \n",
        "    model = KMeans(n_clusters=k)\n",
        "    model.fit(op)\n",
        "    inertias.append(model.inertia_)\n",
        "\n",
        "plt.plot(ks, inertias, '-o')\n",
        "plt.xlabel('number of clusters, k')\n",
        "plt.ylabel('inertia')\n",
        "plt.xticks(ks)\n",
        "plt.show()"
      ],
      "execution_count": 172,
      "outputs": [
        {
          "output_type": "stream",
          "text": [
            "1\n",
            "4\n",
            "7\n",
            "10\n",
            "13\n",
            "16\n",
            "19\n"
          ],
          "name": "stdout"
        },
        {
          "output_type": "display_data",
          "data": {
            "image/png": "[encoded data removed]",
            "text/plain": [
              "<Figure size 432x288 with 1 Axes>"
            ]
          },
          "metadata": {
            "tags": []
          }
        }
      ]
    },
    {
      "cell_type": "code",
      "metadata": {
        "id": "CFYiYxE2VWoF",
        "colab_type": "code",
        "colab": {}
      },
      "source": [
        "kmeans = KMeans(n_clusters=20)\n",
        "kmeans.fit(op)"
      ],
      "execution_count": 0,
      "outputs": []
    },
    {
      "cell_type": "code",
      "metadata": {
        "id": "SdvlMjj8-6iw",
        "colab_type": "code",
        "colab": {}
      },
      "source": [
        "ans = kmeans.predict(op)"
      ],
      "execution_count": 0,
      "outputs": []
    },
    {
      "cell_type": "code",
      "metadata": {
        "id": "98OdVn2i_5Lg",
        "colab_type": "code",
        "colab": {
          "base_uri": "https://localhost:8080/",
          "height": 265
        },
        "outputId": "a8c4305c-c5f5-47c5-873c-6c504d3342b1"
      },
      "source": [
        "plt.scatter(op[:, 9], op[:, 1],c=ans, s=50, cmap='viridis')\n",
        "\n",
        "centers = kmeans.cluster_centers_\n",
        "plt.scatter(centers[:, 0], centers[:, 1], c='black', s=200, alpha=0.5);"
      ],
      "execution_count": 180,
      "outputs": [
        {
          "output_type": "display_data",
          "data": {
            "image/png": "[encoded data removed]",
            "text/plain": [
              "<Figure size 432x288 with 1 Axes>"
            ]
          },
          "metadata": {
            "tags": []
          }
        }
      ]
    },
    {
      "cell_type": "code",
      "metadata": {
        "id": "KegT2iIqFExh",
        "colab_type": "code",
        "colab": {}
      },
      "source": [
        "df = train"
      ],
      "execution_count": 0,
      "outputs": []
    },
    {
      "cell_type": "code",
      "metadata": {
        "colab_type": "code",
        "id": "W4Xmp240bQoR",
        "colab": {}
      },
      "source": [
        "\n",
        "test.fillna(0, inplace=True)\n",
        "\n",
        "feature_names = list(test.columns)\n",
        "feature_names.remove(\"date_time\")\n",
        "\n",
        "features = test[feature_names].values\n",
        "\n",
        "print(\"Making predictions\")\n",
        "predictions = kmeans.predict(features)[:,1]\n"
      ],
      "execution_count": 0,
      "outputs": []
    },
    {
      "cell_type": "code",
      "metadata": {
        "id": "ukmigQBpKC0j",
        "colab_type": "code",
        "colab": {}
      },
      "source": [
        ""
      ],
      "execution_count": 0,
      "outputs": []
    },
    {
      "cell_type": "code",
      "metadata": {
        "id": "AtD9KVCnKCwN",
        "colab_type": "code",
        "colab": {}
      },
      "source": [
        ""
      ],
      "execution_count": 0,
      "outputs": []
    }
  ]
}