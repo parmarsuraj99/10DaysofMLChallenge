{
  "nbformat": 4,
  "nbformat_minor": 0,
  "metadata": {
    "colab": {
      "name": "Day 6 #10daysofMLChallenge.ipynb",
      "provenance": [],
      "collapsed_sections": [],
      "authorship_tag": "ABX9TyOJoT5HkQxjU93OZZUH0QvZ",
      "include_colab_link": true
    },
    "kernelspec": {
      "name": "python3",
      "display_name": "Python 3"
    },
    "accelerator": "GPU"
  },
  "cells": [
    {
      "cell_type": "markdown",
      "metadata": {
        "id": "view-in-github",
        "colab_type": "text"
      },
      "source": [
        "<a href=\"https://colab.research.google.com/github/parmarsuraj99/10DaysofMLChallenge/blob/master/day6/Day_6_10daysofMLChallenge.ipynb\" target=\"_parent\"><img src=\"https://colab.research.google.com/assets/colab-badge.svg\" alt=\"Open In Colab\"/></a>"
      ]
    },
    {
      "cell_type": "code",
      "metadata": {
        "id": "Nr00w3nUpO5H",
        "colab_type": "code",
        "colab": {}
      },
      "source": [
        "!nvidia-smi"
      ],
      "execution_count": 0,
      "outputs": []
    },
    {
      "cell_type": "code",
      "metadata": {
        "id": "wnCcnbSOZBpQ",
        "colab_type": "code",
        "colab": {}
      },
      "source": [
        "!mkdir -p ~/.kaggle\n",
        "!cp kaggle.json ~/.kaggle/\n",
        "!chmod 600 ~/.kaggle/kaggle.json\n",
        "!ls ~/.kaggle"
      ],
      "execution_count": 0,
      "outputs": []
    },
    {
      "cell_type": "code",
      "metadata": {
        "id": "ZM0MlX33aI0E",
        "colab_type": "code",
        "colab": {}
      },
      "source": [
        "!kaggle datasets download -d paultimothymooney/chest-xray-pneumonia"
      ],
      "execution_count": 0,
      "outputs": []
    },
    {
      "cell_type": "code",
      "metadata": {
        "id": "rAIWgqR-fYyk",
        "colab_type": "code",
        "colab": {}
      },
      "source": [
        "!mkdir data\n",
        "!unzip /content/chest-xray-pneumonia.zip -d data/;\n",
        "!rm -r /content/data/chest_xray/chest_xray"
      ],
      "execution_count": 0,
      "outputs": []
    },
    {
      "cell_type": "code",
      "metadata": {
        "id": "T86ttkFZhD6j",
        "colab_type": "code",
        "colab": {}
      },
      "source": [
        "import os\n",
        "import gc\n",
        "import glob\n",
        "import numpy as np\n",
        "\n",
        "import tensorflow as tf\n",
        "import matplotlib.pyplot as plt"
      ],
      "execution_count": 0,
      "outputs": []
    },
    {
      "cell_type": "code",
      "metadata": {
        "id": "5vXRk85XlZwS",
        "colab_type": "code",
        "colab": {}
      },
      "source": [
        "from tensorflow.keras import layers\n",
        "from tensorflow.keras.models import Sequential\n",
        "from tensorflow.keras.models import Model\n",
        "from tensorflow.keras.preprocessing.image import ImageDataGenerator\n",
        "from tensorflow.keras.preprocessing.image import img_to_array, array_to_img, load_img\n",
        "\n",
        "from tensorflow.keras.layers import Dense, Dropout,  Conv2D, Input, Lambda, Flatten, TimeDistributed\n",
        "from tensorflow.keras.layers import Add, Reshape, MaxPooling2D, Concatenate, Embedding, RepeatVector, BatchNormalization\n",
        "from tensorflow.keras import backend as K\n",
        "\n",
        "from keras.utils import np_utils\n",
        "from keras.engine.topology import Layer\n",
        "from tensorflow.keras.callbacks import TensorBoard"
      ],
      "execution_count": 0,
      "outputs": []
    },
    {
      "cell_type": "code",
      "metadata": {
        "id": "7XM4E0WhlZuX",
        "colab_type": "code",
        "colab": {}
      },
      "source": [
        "normal_files = glob.glob(\"/content/data/chest_xray/train/NORMAL/*.jpeg\")\n",
        "pnm_files = glob.glob(\"/content/data/chest_xray/train/PNEUMONIA/*.jpeg\")\n",
        "random = np.random.randint(0, len(normal_files), 5)\n",
        "print(\"NORMAL shapes\")\n",
        "for normal in random:\n",
        "    img = load_img(normal_files[normal])\n",
        "    print(img_to_array(img).shape)\n",
        "\n",
        "random = np.random.randint(0, len(pnm_files), 5)\n",
        "print(\"PNEUMONIA shapes\")\n",
        "for i in random:\n",
        "    img = load_img(pnm_files[i])\n",
        "    print(img_to_array(img).shape)"
      ],
      "execution_count": 0,
      "outputs": []
    },
    {
      "cell_type": "code",
      "metadata": {
        "id": "EfSjf8EZqv_N",
        "colab_type": "code",
        "colab": {}
      },
      "source": [
        "#https://github.com/mahimanzum/visual_attention_imeplemented\n",
        "\n",
        "\n",
        "def MultiHeadsAttModel(l=8*8, d=512, dv=64, dout=512, nv = 8 ):\n",
        "\n",
        "    v1 = Input(shape = (l, d))\n",
        "    q1 = Input(shape = (l, d))\n",
        "    k1 = Input(shape = (l, d))\n",
        "\n",
        "    v2 = Dense(dv*nv, activation = \"relu\")(v1)\n",
        "    q2 = Dense(dv*nv, activation = \"relu\")(q1)\n",
        "    k2 = Dense(dv*nv, activation = \"relu\")(k1)\n",
        "\n",
        "    v = Reshape([l, nv, dv])(v2)\n",
        "    q = Reshape([l, nv, dv])(q2)\n",
        "    k = Reshape([l, nv, dv])(k2)\n",
        "    att = tf.einsum('baik,baij->bakj',q, k)/np.sqrt(dv)\n",
        "    #att = Lambda(lambda x: K.batch_dot(x[0],x[1] ,axes=[-1,-1]) / np.sqrt(dv),output_shape=(l, nv, nv))([q,k])# l, nv, nv\n",
        "    #att = tf.einsum('', q, k)\n",
        "    att = Lambda(lambda x:  K.softmax(x) , output_shape=(l, nv, nv))(att)\n",
        "    out = tf.einsum('bajk,baik->baji',att, v)\n",
        "    #out = Lambda(lambda x: K.batch_dot(x[0], x[1],axes=[2,2]),  output_shape=(l, nv, dv))([att, v])\n",
        "    out = Reshape([l, d])(out)\n",
        "    \n",
        "    out = Add()([out, q1])\n",
        "\n",
        "    out = Dense(dout, activation = \"relu\")(out)\n",
        "\n",
        "    return  Model(inputs=[q1,k1,v1], outputs=out)\n",
        "\n",
        "class NormL(Layer):\n",
        "\n",
        "    def __init__(self, **kwargs):\n",
        "        super(NormL, self).__init__(**kwargs)\n",
        "\n",
        "    def build(self, input_shape):\n",
        "        # Create a trainable weight variable for this layer.\n",
        "        self.a = self.add_weight(name='kernel', \n",
        "                                      shape=(1,input_shape[-1]),\n",
        "                                      initializer='ones',\n",
        "                                      trainable=True)\n",
        "        self.b = self.add_weight(name='kernel', \n",
        "                                      shape=(1,input_shape[-1]),\n",
        "                                      initializer='zeros',\n",
        "                                      trainable=True)\n",
        "        super(NormL, self).build(input_shape)  # Be sure to call this somewhere!\n",
        "\n",
        "    def call(self, x):\n",
        "        eps = 0.000001\n",
        "        mu = K.mean(x, keepdims=True, axis=-1)\n",
        "        sigma = K.std(x, keepdims=True, axis=-1)\n",
        "        ln_out = (x - mu) / (sigma + eps)\n",
        "        return ln_out*self.a + self.b\n",
        "\n",
        "    def compute_output_shape(self, input_shape):\n",
        "        return input_shape"
      ],
      "execution_count": 0,
      "outputs": []
    },
    {
      "cell_type": "code",
      "metadata": {
        "id": "46zVnqBDlZsg",
        "colab_type": "code",
        "colab": {}
      },
      "source": [
        "batch_size = 128\n",
        "input_shape = (224, 224)"
      ],
      "execution_count": 0,
      "outputs": []
    },
    {
      "cell_type": "code",
      "metadata": {
        "id": "de3JVx-ShD3y",
        "colab_type": "code",
        "colab": {}
      },
      "source": [
        "train_datagen = ImageDataGenerator(\n",
        "        rescale=1./255,\n",
        "        shear_range=0.2,\n",
        "        zoom_range=0.2,\n",
        "        horizontal_flip=True)\n",
        "valid_datagen = ImageDataGenerator(rescale=1./255)"
      ],
      "execution_count": 0,
      "outputs": []
    },
    {
      "cell_type": "code",
      "metadata": {
        "id": "rT694lQHhD2l",
        "colab_type": "code",
        "colab": {}
      },
      "source": [
        "train_generator = train_datagen.flow_from_directory(\n",
        "        '/content/data/chest_xray/train',\n",
        "        target_size=input_shape,\n",
        "        batch_size=batch_size,\n",
        "        class_mode='binary')\n",
        "validation_generator = valid_datagen.flow_from_directory(\n",
        "        '/content/data/chest_xray/val',\n",
        "        target_size=input_shape,\n",
        "        batch_size=16,\n",
        "        class_mode='binary')\n"
      ],
      "execution_count": 0,
      "outputs": []
    },
    {
      "cell_type": "code",
      "metadata": {
        "id": "HQAXJe1nnTTl",
        "colab_type": "code",
        "colab": {}
      },
      "source": [
        "train_steps_per_epoch = train_generator.n//train_generator.batch_size\n",
        "valid_steps_per_epoch = validation_generator.n//validation_generator.batch_size"
      ],
      "execution_count": 0,
      "outputs": []
    },
    {
      "cell_type": "code",
      "metadata": {
        "id": "K8bP-anSnTSO",
        "colab_type": "code",
        "colab": {}
      },
      "source": [
        "gc.collect()"
      ],
      "execution_count": 0,
      "outputs": []
    },
    {
      "cell_type": "code",
      "metadata": {
        "id": "WCOouBLtraDW",
        "colab_type": "code",
        "colab": {}
      },
      "source": [
        "attn = True"
      ],
      "execution_count": 0,
      "outputs": []
    },
    {
      "cell_type": "code",
      "metadata": {
        "id": "kgbhH5fwon21",
        "colab_type": "code",
        "colab": {}
      },
      "source": [
        "inp = Input(shape = (224, 224, 3))\n",
        "x = Conv2D(32,(2,2),activation='relu', padding='same')(inp)\n",
        "x = MaxPooling2D(pool_size=(2, 2))(x)\n",
        "x = Conv2D(64,(2,2),activation='relu')(x)\n",
        "x = MaxPooling2D(pool_size=(2, 2), padding='same')(x)\n",
        "x = Conv2D(64,(2,2),activation='relu')(x)\n",
        "x = MaxPooling2D(pool_size=(2, 2), padding='same')(x)\n",
        "\n",
        "if True:\n",
        "    x = Reshape([28*28,64])(x)    \n",
        "    att = MultiHeadsAttModel(l=28*28, d=64 , dv=8, dout=32, nv = 8 )\n",
        "    x = att([x,x,x])\n",
        "    x = Reshape([28,28,32])(x)   \n",
        "    #x = NormL()(x)\n",
        "    x = BatchNormalization()(x)\n",
        "\n",
        "x = Flatten()(x) \n",
        "x = Dense(256, activation='relu')(x)\n",
        "x = Dense(1, activation='sigmoid')(x)\n",
        "\n",
        "model = Model(inputs=inp, outputs=x)"
      ],
      "execution_count": 0,
      "outputs": []
    },
    {
      "cell_type": "code",
      "metadata": {
        "id": "857Txru3z-bW",
        "colab_type": "code",
        "colab": {}
      },
      "source": [
        "model.summary()"
      ],
      "execution_count": 0,
      "outputs": []
    },
    {
      "cell_type": "code",
      "metadata": {
        "id": "tIRwBVpuz-YP",
        "colab_type": "code",
        "colab": {}
      },
      "source": [
        "model = Sequential()\n",
        "model.add(layers.Conv2D(32, (3, 3), input_shape=(input_shape[0], input_shape[1], 3), activation='sigmoid'))\n",
        "model.add(layers.MaxPooling2D(pool_size=(2, 2)))\n",
        "\n",
        "model.add(layers.Conv2D(32, (3, 3), activation='sigmoid'))\n",
        "model.add(layers.MaxPooling2D(pool_size=(2, 2)))\n",
        "model.add(Dropout(0.3))\n",
        "\n",
        "model.add(layers.Conv2D(32, (3, 3), activation='sigmoid'))\n",
        "model.add(layers.MaxPooling2D(pool_size=(2, 2)))\n",
        "\n",
        "model.add(layers.Conv2D(64, (3, 3), activation='relu'))\n",
        "\n",
        "model.add(layers.Flatten())\n",
        "model.add(layers.Dense(64, activation='sigmoid'))\n",
        "model.add(layers.Dense(1, activation='sigmoid'))"
      ],
      "execution_count": 0,
      "outputs": []
    },
    {
      "cell_type": "code",
      "metadata": {
        "id": "WQ7ed95esCHW",
        "colab_type": "code",
        "colab": {}
      },
      "source": [
        "model.summary()"
      ],
      "execution_count": 0,
      "outputs": []
    },
    {
      "cell_type": "code",
      "metadata": {
        "id": "jjCq0hJksqRE",
        "colab_type": "code",
        "colab": {}
      },
      "source": [
        "gc.collect()"
      ],
      "execution_count": 0,
      "outputs": []
    },
    {
      "cell_type": "code",
      "metadata": {
        "id": "4BAnFL30nTQF",
        "colab_type": "code",
        "colab": {}
      },
      "source": [
        "reduce_lr = tf.keras.callbacks.ReduceLROnPlateau(monitor='val_loss', factor=0.2,\n",
        "                              patience=2, min_lr=0.0001)\n",
        "optim = tf.keras.optimizers.Adam(learning_rate=0.001, beta_1=0.9, beta_2=0.999, amsgrad=False)"
      ],
      "execution_count": 0,
      "outputs": []
    },
    {
      "cell_type": "code",
      "metadata": {
        "id": "sgBPEP1bon01",
        "colab_type": "code",
        "colab": {}
      },
      "source": [
        "model.compile(optimizer='adam',\n",
        "              loss=tf.keras.losses.binary_crossentropy,\n",
        "              metrics=[\"accuracy\"],\n",
        "              \n",
        "              )"
      ],
      "execution_count": 0,
      "outputs": []
    },
    {
      "cell_type": "code",
      "metadata": {
        "id": "5bibe75w8Fe8",
        "colab_type": "code",
        "colab": {}
      },
      "source": [
        "history1 = model.fit(train_generator,\n",
        "                    steps_per_epoch = train_steps_per_epoch,\n",
        "                    epochs = 10,\n",
        "                    validation_data = validation_generator,\n",
        "                    validation_steps = valid_steps_per_epoch,\n",
        "                    callbacks=[reduce_lr],\n",
        "                    )"
      ],
      "execution_count": 0,
      "outputs": []
    },
    {
      "cell_type": "code",
      "metadata": {
        "id": "CaZIa_3uotGF",
        "colab_type": "code",
        "colab": {}
      },
      "source": [
        "history2 = model.fit(train_generator,\n",
        "                    steps_per_epoch = train_steps_per_epoch,\n",
        "                    epochs = 10,\n",
        "                    validation_data = validation_generator,\n",
        "                    validation_steps = valid_steps_per_epoch,\n",
        "                    callbacks=[reduce_lr],\n",
        "                    )"
      ],
      "execution_count": 0,
      "outputs": []
    },
    {
      "cell_type": "code",
      "metadata": {
        "id": "SYNfuk476GfS",
        "colab_type": "code",
        "colab": {}
      },
      "source": [
        "history = history2"
      ],
      "execution_count": 0,
      "outputs": []
    },
    {
      "cell_type": "code",
      "metadata": {
        "id": "-w_iiK8FoisF",
        "colab_type": "code",
        "colab": {}
      },
      "source": [
        "print(history.history.keys())\n",
        "# summarize history for accuracy\n",
        "plt.plot(history.history['accuracy'])\n",
        "plt.plot(history.history['val_accuracy'])\n",
        "plt.title('model accuracy')\n",
        "plt.ylabel('accuracy')\n",
        "plt.xlabel('epoch')\n",
        "plt.legend(['train', 'test'], loc='upper left')\n",
        "plt.show()\n",
        "# summarize history for loss\n",
        "plt.plot(history.history['loss'])\n",
        "plt.plot(history.history['val_loss'])\n",
        "plt.title('model loss')\n",
        "plt.ylabel('loss')\n",
        "plt.xlabel('epoch')\n",
        "plt.legend(['train', 'test'], loc='upper left')\n",
        "plt.show()"
      ],
      "execution_count": 0,
      "outputs": []
    },
    {
      "cell_type": "code",
      "metadata": {
        "id": "QVfwoxgiaKQX",
        "colab_type": "code",
        "colab": {}
      },
      "source": [
        ""
      ],
      "execution_count": 0,
      "outputs": []
    },
    {
      "cell_type": "code",
      "metadata": {
        "id": "C89aB-U8aJ-_",
        "colab_type": "code",
        "colab": {}
      },
      "source": [
        ""
      ],
      "execution_count": 0,
      "outputs": []
    }
  ]
}