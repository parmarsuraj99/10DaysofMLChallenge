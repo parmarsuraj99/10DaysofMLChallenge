{
  "nbformat": 4,
  "nbformat_minor": 0,
  "metadata": {
    "colab": {
      "name": "Day 7 #10DaysofMLChallenge.ipynb",
      "provenance": [],
      "authorship_tag": "ABX9TyP7S3DUpp9UEAA5zRrwtrbX",
      "include_colab_link": true
    },
    "kernelspec": {
      "name": "python3",
      "display_name": "Python 3"
    }
  },
  "cells": [
    {
      "cell_type": "markdown",
      "metadata": {
        "id": "view-in-github",
        "colab_type": "text"
      },
      "source": [
        "<a href=\"https://colab.research.google.com/github/parmarsuraj99/10DaysofMLChallenge/blob/master/day7/Day_7_10DaysofMLChallenge.ipynb\" target=\"_parent\"><img src=\"https://colab.research.google.com/assets/colab-badge.svg\" alt=\"Open In Colab\"/></a>"
      ]
    },
    {
      "cell_type": "code",
      "metadata": {
        "id": "iNUEgnVz4-z6",
        "colab_type": "code",
        "colab": {}
      },
      "source": [
        "!mkdir -p ~/.kaggle\n",
        "!cp kaggle.json ~/.kaggle/\n",
        "!chmod 600 ~/.kaggle/kaggle.json\n",
        "!ls ~/.kaggle"
      ],
      "execution_count": 0,
      "outputs": []
    },
    {
      "cell_type": "code",
      "metadata": {
        "id": "fa0CaFrH5eF-",
        "colab_type": "code",
        "colab": {}
      },
      "source": [
        "!kaggle datasets download -d nitin194/twitter-sentiment-analysis"
      ],
      "execution_count": 0,
      "outputs": []
    },
    {
      "cell_type": "code",
      "metadata": {
        "id": "xDJDgbEp5obv",
        "colab_type": "code",
        "colab": {}
      },
      "source": [
        "!unzip /content/twitter-sentiment-analysis.zip -d data/"
      ],
      "execution_count": 0,
      "outputs": []
    },
    {
      "cell_type": "code",
      "metadata": {
        "id": "IXSv-uHN5pW5",
        "colab_type": "code",
        "colab": {}
      },
      "source": [
        "import os\n",
        "import gc\n",
        "import re\n",
        "import numpy as np\n",
        "import pandas as pd\n",
        "import matplotlib.pyplot as plt\n",
        "import wordcloud"
      ],
      "execution_count": 0,
      "outputs": []
    },
    {
      "cell_type": "code",
      "metadata": {
        "id": "Y6M-4Yl55pUB",
        "colab_type": "code",
        "colab": {}
      },
      "source": [
        "train = pd.read_csv(\"/content/data/train_E6oV3lV.csv\")\n",
        "test = pd.read_csv(\"/content/data/test_tweets_anuFYb8.csv\")"
      ],
      "execution_count": 0,
      "outputs": []
    },
    {
      "cell_type": "code",
      "metadata": {
        "id": "1YVBCG5j5pSM",
        "colab_type": "code",
        "colab": {}
      },
      "source": [
        "train.head()"
      ],
      "execution_count": 0,
      "outputs": []
    },
    {
      "cell_type": "code",
      "metadata": {
        "id": "mvUhONj56hRu",
        "colab_type": "code",
        "colab": {}
      },
      "source": [
        "train.shape, test.shape"
      ],
      "execution_count": 0,
      "outputs": []
    },
    {
      "cell_type": "code",
      "metadata": {
        "id": "qJeR8d0K5-VU",
        "colab_type": "code",
        "colab": {}
      },
      "source": [
        "test.head()"
      ],
      "execution_count": 0,
      "outputs": []
    },
    {
      "cell_type": "markdown",
      "metadata": {
        "id": "w2pCYoo66EEX",
        "colab_type": "text"
      },
      "source": [
        "So many '#'s of tweets. Can be useful. Lets see some positive and negative tweets"
      ]
    },
    {
      "cell_type": "code",
      "metadata": {
        "id": "UnbAvFd85-Sx",
        "colab_type": "code",
        "colab": {}
      },
      "source": [
        "train[train['label']==0].head()"
      ],
      "execution_count": 0,
      "outputs": []
    },
    {
      "cell_type": "code",
      "metadata": {
        "id": "6IAuuBmJ5-Qu",
        "colab_type": "code",
        "colab": {}
      },
      "source": [
        "train[train['label']==1].head()"
      ],
      "execution_count": 0,
      "outputs": []
    },
    {
      "cell_type": "code",
      "metadata": {
        "id": "wibAfxH96bWy",
        "colab_type": "code",
        "colab": {}
      },
      "source": [
        "train.label.value_counts()"
      ],
      "execution_count": 0,
      "outputs": []
    },
    {
      "cell_type": "code",
      "metadata": {
        "id": "oOZi3Tli6k_B",
        "colab_type": "code",
        "colab": {}
      },
      "source": [
        "from wordcloud import WordCloud, STOPWORDS "
      ],
      "execution_count": 0,
      "outputs": []
    },
    {
      "cell_type": "markdown",
      "metadata": {
        "id": "Qm3kwxIQ6zdM",
        "colab_type": "text"
      },
      "source": [
        "Good to see that there is more positivity here! Let's see them from a higher(Cloud) perspective"
      ]
    },
    {
      "cell_type": "code",
      "metadata": {
        "id": "P_cFwctY8IT1",
        "colab_type": "code",
        "colab": {}
      },
      "source": [
        "comment_words = ' '\n",
        "stopwords = set(STOPWORDS) "
      ],
      "execution_count": 0,
      "outputs": []
    },
    {
      "cell_type": "code",
      "metadata": {
        "id": "jpbRrpZu7vU4",
        "colab_type": "code",
        "colab": {}
      },
      "source": [
        "for val in train.tweet[train.label==0][:10]:      \n",
        "    val = str(val) \n",
        "    tokens = val.split()       \n",
        "    for i in range(len(tokens)): \n",
        "        tokens[i] = tokens[i].lower() \n",
        "    for words in tokens: \n",
        "        comment_words = comment_words + words + ' '\n",
        "\n",
        "wordcloud = WordCloud(width = 800, height = 800, \n",
        "                background_color ='white', \n",
        "                stopwords = stopwords, \n",
        "                min_font_size = 10).generate(comment_words) \n",
        "plt.figure(figsize = (8, 8), facecolor = None) \n",
        "plt.imshow(wordcloud) \n",
        "plt.axis(\"off\") \n",
        "plt.tight_layout(pad = 0) \n",
        "  \n",
        "plt.show() "
      ],
      "execution_count": 0,
      "outputs": []
    },
    {
      "cell_type": "markdown",
      "metadata": {
        "id": "0lEVYVXM9LKw",
        "colab_type": "text"
      },
      "source": [
        "We might wan to do some preprocessing here. So It would be better if we combine both sets"
      ]
    },
    {
      "cell_type": "code",
      "metadata": {
        "id": "QElJLbcl89HR",
        "colab_type": "code",
        "colab": {}
      },
      "source": [
        "full = train.append(test, sort=True)"
      ],
      "execution_count": 0,
      "outputs": []
    },
    {
      "cell_type": "code",
      "metadata": {
        "id": "6-3A40PO89EM",
        "colab_type": "code",
        "colab": {}
      },
      "source": [
        "train.tweet"
      ],
      "execution_count": 0,
      "outputs": []
    },
    {
      "cell_type": "markdown",
      "metadata": {
        "id": "5qkMM3yw9Xc4",
        "colab_type": "text"
      },
      "source": [
        "There are usernames masked with @user. We can remove them. "
      ]
    },
    {
      "cell_type": "code",
      "metadata": {
        "id": "AKOMIRww6k8p",
        "colab_type": "code",
        "colab": {}
      },
      "source": [
        "def remove_pattern(input_txt, pattern):\n",
        "    r = re.findall(pattern, input_txt)\n",
        "    for i in r:\n",
        "        input_txt = re.sub(i, '', input_txt)\n",
        "    return input_txt\n",
        "v_rem = np.vectorize(remove_pattern)"
      ],
      "execution_count": 0,
      "outputs": []
    },
    {
      "cell_type": "code",
      "metadata": {
        "id": "-W2zXZcC6k6J",
        "colab_type": "code",
        "colab": {}
      },
      "source": [
        "full[\"clean_tweet\"] = v_rem(full[\"tweet\"], \"@[\\w]*\")"
      ],
      "execution_count": 0,
      "outputs": []
    },
    {
      "cell_type": "code",
      "metadata": {
        "id": "taKX_zO96k4C",
        "colab_type": "code",
        "colab": {}
      },
      "source": [
        "full.head()"
      ],
      "execution_count": 0,
      "outputs": []
    },
    {
      "cell_type": "markdown",
      "metadata": {
        "id": "-ppJSwOD-SUQ",
        "colab_type": "text"
      },
      "source": [
        "Can we remove punctuation? Of course!(although, that would mean loss of some important data)"
      ]
    },
    {
      "cell_type": "code",
      "metadata": {
        "id": "_p41OV3e98eb",
        "colab_type": "code",
        "colab": {}
      },
      "source": [
        "full[\"clean_tweet\"] = full[\"clean_tweet\"].str.replace(\"[^a-zA-Z#]\", \" \")"
      ],
      "execution_count": 0,
      "outputs": []
    },
    {
      "cell_type": "code",
      "metadata": {
        "id": "CGa5ZaWM-Q3s",
        "colab_type": "code",
        "colab": {}
      },
      "source": [
        "full.head()"
      ],
      "execution_count": 0,
      "outputs": []
    },
    {
      "cell_type": "code",
      "metadata": {
        "id": "8MJ42l9C-Qzw",
        "colab_type": "code",
        "colab": {}
      },
      "source": [
        "r = re.findall(\"#[\\w]*\" ,full.clean_tweet.values[3])"
      ],
      "execution_count": 0,
      "outputs": []
    },
    {
      "cell_type": "code",
      "metadata": {
        "id": "FWJTvcMO-zA4",
        "colab_type": "code",
        "colab": {}
      },
      "source": [
        "from nltk.stem import *\n",
        "stemmer = PorterStemmer()"
      ],
      "execution_count": 0,
      "outputs": []
    },
    {
      "cell_type": "code",
      "metadata": {
        "id": "qbUBaxKn-zET",
        "colab_type": "code",
        "colab": {}
      },
      "source": [
        "tokenized_tweets = full.clean_tweet.apply(lambda x: x.split())"
      ],
      "execution_count": 0,
      "outputs": []
    },
    {
      "cell_type": "code",
      "metadata": {
        "id": "lDnV57ktANOy",
        "colab_type": "code",
        "colab": {}
      },
      "source": [
        "tokenized_tweets = tokenized_tweets.apply(lambda x:[stemmer.stem(plural) for plural in x])"
      ],
      "execution_count": 0,
      "outputs": []
    },
    {
      "cell_type": "code",
      "metadata": {
        "id": "lMhyOj3fANLZ",
        "colab_type": "code",
        "colab": {}
      },
      "source": [
        "tokenized_tweets = tokenized_tweets.apply(lambda x:\" \".join(x))"
      ],
      "execution_count": 0,
      "outputs": []
    },
    {
      "cell_type": "code",
      "metadata": {
        "id": "FqyVd5twEH9h",
        "colab_type": "code",
        "colab": {}
      },
      "source": [
        "full[\"clean_tweet\"] = tokenized_tweets"
      ],
      "execution_count": 0,
      "outputs": []
    },
    {
      "cell_type": "code",
      "metadata": {
        "id": "0b-mWYK5EH6N",
        "colab_type": "code",
        "colab": {}
      },
      "source": [
        "full.head()"
      ],
      "execution_count": 0,
      "outputs": []
    },
    {
      "cell_type": "markdown",
      "metadata": {
        "id": "gzK9aaCoFQfK",
        "colab_type": "text"
      },
      "source": [
        "Seems good now"
      ]
    },
    {
      "cell_type": "code",
      "metadata": {
        "id": "-ALZ61MiBYWN",
        "colab_type": "code",
        "colab": {}
      },
      "source": [
        "all_words = \" \".join([tweet for tweet in full.clean_tweet])"
      ],
      "execution_count": 0,
      "outputs": []
    },
    {
      "cell_type": "code",
      "metadata": {
        "id": "lTOEB7-YFMDC",
        "colab_type": "code",
        "colab": {}
      },
      "source": [
        "wordcloud = WordCloud(width = 800, height = 800, \n",
        "                background_color ='white', \n",
        "                stopwords = stopwords, \n",
        "                min_font_size = 10).generate(all_words) \n",
        "plt.figure(figsize = (8, 8), facecolor = None) \n",
        "plt.imshow(wordcloud) \n",
        "plt.axis(\"off\") \n",
        "plt.tight_layout(pad = 0) \n",
        "  \n",
        "plt.show()"
      ],
      "execution_count": 0,
      "outputs": []
    },
    {
      "cell_type": "code",
      "metadata": {
        "id": "mDnf03stFv3M",
        "colab_type": "code",
        "colab": {}
      },
      "source": [
        "non_r_words = \" \".join([tweet for tweet in full.clean_tweet[full.label==0]])"
      ],
      "execution_count": 0,
      "outputs": []
    },
    {
      "cell_type": "code",
      "metadata": {
        "id": "FHfFC726Fv0B",
        "colab_type": "code",
        "colab": {}
      },
      "source": [
        "wordcloud = WordCloud(width = 800, height = 800, \n",
        "                background_color ='white', \n",
        "                stopwords = stopwords, \n",
        "                min_font_size = 10).generate(non_r_words) \n",
        "plt.figure(figsize = (8, 8), facecolor = None) \n",
        "plt.imshow(wordcloud) \n",
        "plt.axis(\"off\") \n",
        "plt.tight_layout(pad = 0) \n",
        "  \n",
        "plt.show()"
      ],
      "execution_count": 0,
      "outputs": []
    },
    {
      "cell_type": "code",
      "metadata": {
        "id": "jUKVPjkBFvxw",
        "colab_type": "code",
        "colab": {}
      },
      "source": [
        "neg_words = \" \".join([tweet for tweet in full.clean_tweet[full.label==1]])"
      ],
      "execution_count": 0,
      "outputs": []
    },
    {
      "cell_type": "code",
      "metadata": {
        "id": "gNEfHAnWFL_l",
        "colab_type": "code",
        "colab": {}
      },
      "source": [
        "wordcloud = WordCloud(width = 800, height = 800, \n",
        "                background_color ='white', \n",
        "                stopwords = stopwords, \n",
        "                min_font_size = 10).generate(neg_words) \n",
        "plt.figure(figsize = (8, 8), facecolor = None) \n",
        "plt.imshow(wordcloud) \n",
        "plt.axis(\"off\") \n",
        "plt.tight_layout(pad = 0) \n",
        "  \n",
        "plt.show()"
      ],
      "execution_count": 0,
      "outputs": []
    },
    {
      "cell_type": "code",
      "metadata": {
        "id": "-lx_lKRlGYOA",
        "colab_type": "code",
        "colab": {}
      },
      "source": [
        "normal_tags = full[full.label==0][\"clean_tweet\"].str.findall(r\"#[\\w]+\")\n",
        "neg_tags = full[full.label==1][\"clean_tweet\"].str.findall(r\"#[\\w]+\")"
      ],
      "execution_count": 0,
      "outputs": []
    },
    {
      "cell_type": "code",
      "metadata": {
        "id": "X2iEH0NBGiL1",
        "colab_type": "code",
        "colab": {}
      },
      "source": [
        "normal_tags = sum(normal_tags, [])\n",
        "neg_tags = sum(neg_tags, [])"
      ],
      "execution_count": 0,
      "outputs": []
    },
    {
      "cell_type": "code",
      "metadata": {
        "id": "Ev0POj-TGiJX",
        "colab_type": "code",
        "colab": {}
      },
      "source": [
        "normal_max=np.unique(normal_tags, return_counts=True)"
      ],
      "execution_count": 0,
      "outputs": []
    },
    {
      "cell_type": "code",
      "metadata": {
        "id": "OOPhRNm1I9fg",
        "colab_type": "code",
        "colab": {}
      },
      "source": [
        "normal_max[0][:5]"
      ],
      "execution_count": 0,
      "outputs": []
    },
    {
      "cell_type": "code",
      "metadata": {
        "id": "ZAVrqs4fGiH7",
        "colab_type": "code",
        "colab": {}
      },
      "source": [
        "plt.bar(normal_max[0][:5], normal_max[1][:5])"
      ],
      "execution_count": 0,
      "outputs": []
    },
    {
      "cell_type": "code",
      "metadata": {
        "id": "xVa9YU-4GiDR",
        "colab_type": "code",
        "colab": {}
      },
      "source": [
        "from sklearn.feature_extraction.text import TfidfVectorizer, CountVectorizer \n",
        "import gensim"
      ],
      "execution_count": 0,
      "outputs": []
    },
    {
      "cell_type": "code",
      "metadata": {
        "id": "0hDjrMGqGh_c",
        "colab_type": "code",
        "colab": {}
      },
      "source": [
        "tfidf_vectorizer = TfidfVectorizer(max_df=0.90, min_df=2, max_features=1000, stop_words='english')\n",
        "tfidf = tfidf_vectorizer.fit_transform(full['clean_tweet'])\n",
        "tfidf.shape"
      ],
      "execution_count": 0,
      "outputs": []
    },
    {
      "cell_type": "code",
      "metadata": {
        "id": "hZjgo7BhMgnC",
        "colab_type": "code",
        "colab": {}
      },
      "source": [
        "from sklearn.model_selection import train_test_split"
      ],
      "execution_count": 0,
      "outputs": []
    },
    {
      "cell_type": "code",
      "metadata": {
        "id": "VhMoFHZPOrtA",
        "colab_type": "code",
        "colab": {}
      },
      "source": [
        "train.shape[0]"
      ],
      "execution_count": 0,
      "outputs": []
    },
    {
      "cell_type": "code",
      "metadata": {
        "id": "0kxjYBdAJy2C",
        "colab_type": "code",
        "colab": {}
      },
      "source": [
        "xtrain_tfidf, xvalid_tfidf, ytrain, yvalid = train_test_split(tfidf[:train.shape[0]], train['label'], random_state=42, test_size=0.3)"
      ],
      "execution_count": 0,
      "outputs": []
    },
    {
      "cell_type": "code",
      "metadata": {
        "id": "qB_hj6UoMyzb",
        "colab_type": "code",
        "colab": {}
      },
      "source": [
        "xtrain_tfidf = xtrain_tfidf[ytrain.index]\n",
        "xvalid_tfidf = xvalid_tfidf[yvalid.index]"
      ],
      "execution_count": 0,
      "outputs": []
    },
    {
      "cell_type": "code",
      "metadata": {
        "id": "Ysp-yuUyNuio",
        "colab_type": "code",
        "colab": {}
      },
      "source": [
        "xtrain_tfidf.shape"
      ],
      "execution_count": 0,
      "outputs": []
    },
    {
      "cell_type": "code",
      "metadata": {
        "id": "YKDBCNMtPFhV",
        "colab_type": "code",
        "colab": {}
      },
      "source": [
        "from sklearn.ensemble import RandomForestClassifier\n",
        "from sklearn.metrics import f1_score"
      ],
      "execution_count": 0,
      "outputs": []
    },
    {
      "cell_type": "code",
      "metadata": {
        "id": "VO1B3MfrPBrY",
        "colab_type": "code",
        "colab": {}
      },
      "source": [
        "rf = RandomForestClassifier(n_estimators=500, random_state=11, verbose=1, n_jobs=-1)\n",
        "rf.fit(xtrain_tfidf, ytrain, ) "
      ],
      "execution_count": 0,
      "outputs": []
    },
    {
      "cell_type": "code",
      "metadata": {
        "id": "DFnG6ntxJwXx",
        "colab_type": "code",
        "colab": {}
      },
      "source": [
        ""
      ],
      "execution_count": 0,
      "outputs": []
    },
    {
      "cell_type": "code",
      "metadata": {
        "id": "VAR9IWP_PBpG",
        "colab_type": "code",
        "colab": {}
      },
      "source": [
        "prediction = rf.predict(xvalid_tfidf)\n",
        "print(\"RFClassifier, f1: \",(f1_score(yvalid, prediction)))"
      ],
      "execution_count": 0,
      "outputs": []
    },
    {
      "cell_type": "code",
      "metadata": {
        "id": "ihLevIy7PBnX",
        "colab_type": "code",
        "colab": {}
      },
      "source": [
        ""
      ],
      "execution_count": 0,
      "outputs": []
    },
    {
      "cell_type": "code",
      "metadata": {
        "id": "wCNaU0KLPmVC",
        "colab_type": "code",
        "colab": {}
      },
      "source": [
        ""
      ],
      "execution_count": 0,
      "outputs": []
    },
    {
      "cell_type": "code",
      "metadata": {
        "id": "0OSHQOo8PmRQ",
        "colab_type": "code",
        "colab": {}
      },
      "source": [
        ""
      ],
      "execution_count": 0,
      "outputs": []
    },
    {
      "cell_type": "code",
      "metadata": {
        "id": "6F9PBZwTNWBh",
        "colab_type": "code",
        "colab": {}
      },
      "source": [
        "from tensorflow.keras.models import Sequential\n",
        "from tensorflow.keras.layers import Dense, Dropout\n",
        "from tensorflow.keras.wrappers.scikit_learn import KerasClassifier"
      ],
      "execution_count": 0,
      "outputs": []
    },
    {
      "cell_type": "code",
      "metadata": {
        "id": "KUmIc7nvMywQ",
        "colab_type": "code",
        "colab": {}
      },
      "source": [
        "# Model Training \n",
        "print (\"Create model ... \")\n",
        "def build_model():\n",
        "    model = Sequential()\n",
        "    model.add(Dense(256, input_dim=1000, activation='relu'))\n",
        "    model.add(Dropout(0.3))\n",
        "    model.add(Dense(128, activation='relu'))\n",
        "    model.add(Dropout(0.3))\n",
        "    model.add(Dense(64, activation='relu'))\n",
        "    model.add(Dropout(0.3))\n",
        "    model.add(Dense(1, activation='sigmoid'))\n",
        "    model.compile(loss='binary_crossentropy', optimizer='adam', metrics=['accuracy'])\n",
        "    #model.summary()\n",
        "    return model\n",
        "\n",
        "print(\"Compile model ...\")\n",
        "model = build_model()"
      ],
      "execution_count": 0,
      "outputs": []
    },
    {
      "cell_type": "code",
      "metadata": {
        "id": "_NqwVI8YEwtU",
        "colab_type": "code",
        "colab": {}
      },
      "source": [
        "xtrain_tfidf.toarray().shape"
      ],
      "execution_count": 0,
      "outputs": []
    },
    {
      "cell_type": "code",
      "metadata": {
        "id": "_2tID1YGE6YJ",
        "colab_type": "code",
        "colab": {}
      },
      "source": [
        "ytrain.shape"
      ],
      "execution_count": 0,
      "outputs": []
    },
    {
      "cell_type": "code",
      "metadata": {
        "id": "oSCNXemsKmS6",
        "colab_type": "code",
        "colab": {}
      },
      "source": [
        "hst = model.fit(xtrain_tfidf.toarray(), ytrain, epochs = 10, validation_split=0.2)#validation_data=(xvalid_tfidf.toarray(), yvalid))"
      ],
      "execution_count": 0,
      "outputs": []
    },
    {
      "cell_type": "code",
      "metadata": {
        "id": "U7oMLfPtFYCJ",
        "colab_type": "code",
        "colab": {}
      },
      "source": [
        "history = hst"
      ],
      "execution_count": 0,
      "outputs": []
    },
    {
      "cell_type": "code",
      "metadata": {
        "id": "Wf0fsKCdKmPN",
        "colab_type": "code",
        "colab": {}
      },
      "source": [
        "print(history.history.keys())\n",
        "# summarize history for accuracy\n",
        "plt.plot(history.history['accuracy'])\n",
        "plt.plot(history.history['val_accuracy'])\n",
        "plt.title('model accuracy')\n",
        "plt.ylabel('accuracy')\n",
        "plt.xlabel('epoch')\n",
        "plt.legend(['train', 'test'], loc='upper left')\n",
        "plt.show()\n",
        "# summarize history for loss\n",
        "plt.plot(history.history['loss'])\n",
        "plt.plot(history.history['val_loss'])\n",
        "plt.title('model loss')\n",
        "plt.ylabel('loss')\n",
        "plt.xlabel('epoch')\n",
        "plt.legend(['train', 'test'], loc='upper left')\n",
        "plt.show()"
      ],
      "execution_count": 0,
      "outputs": []
    },
    {
      "cell_type": "code",
      "metadata": {
        "id": "7kRxey_nGw7z",
        "colab_type": "code",
        "colab": {}
      },
      "source": [
        "preds = model.predict(xvalid_tfidf.toarray())"
      ],
      "execution_count": 0,
      "outputs": []
    },
    {
      "cell_type": "code",
      "metadata": {
        "id": "6kOAtAAZIefa",
        "colab_type": "code",
        "colab": {}
      },
      "source": [
        "preds = (preds>=0.5).astype(int)"
      ],
      "execution_count": 0,
      "outputs": []
    },
    {
      "cell_type": "code",
      "metadata": {
        "id": "V-0Bn-bQI4z_",
        "colab_type": "code",
        "colab": {}
      },
      "source": [
        "preds.squeeze()"
      ],
      "execution_count": 0,
      "outputs": []
    },
    {
      "cell_type": "code",
      "metadata": {
        "id": "eszzKSyQGzzt",
        "colab_type": "code",
        "colab": {}
      },
      "source": [
        "yvalid"
      ],
      "execution_count": 0,
      "outputs": []
    },
    {
      "cell_type": "code",
      "metadata": {
        "id": "KPzNChPIM9vu",
        "colab_type": "code",
        "colab": {}
      },
      "source": [
        ""
      ],
      "execution_count": 0,
      "outputs": []
    },
    {
      "cell_type": "code",
      "metadata": {
        "id": "K3pSS1pVM9s0",
        "colab_type": "code",
        "colab": {}
      },
      "source": [
        ""
      ],
      "execution_count": 0,
      "outputs": []
    }
  ]
}