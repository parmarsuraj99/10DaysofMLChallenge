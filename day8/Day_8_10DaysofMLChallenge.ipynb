{
  "nbformat": 4,
  "nbformat_minor": 0,
  "metadata": {
    "colab": {
      "name": "Day 8 #10DaysofMLChallenge.ipynb",
      "provenance": [],
      "collapsed_sections": [],
      "machine_shape": "hm",
      "authorship_tag": "ABX9TyNn+sp69oxerdvyfrPtMgV7",
      "include_colab_link": true
    },
    "kernelspec": {
      "name": "python3",
      "display_name": "Python 3"
    }
  },
  "cells": [
    {
      "cell_type": "markdown",
      "metadata": {
        "id": "view-in-github",
        "colab_type": "text"
      },
      "source": [
        "<a href=\"https://colab.research.google.com/github/parmarsuraj99/10DaysofMLChallenge/blob/master/day8/Day_8_10DaysofMLChallenge.ipynb\" target=\"_parent\"><img src=\"https://colab.research.google.com/assets/colab-badge.svg\" alt=\"Open In Colab\"/></a>"
      ]
    },
    {
      "cell_type": "markdown",
      "metadata": {
        "id": "D_rHjj4ix57D",
        "colab_type": "text"
      },
      "source": [
        "**Task: Clustering or grouping the documents based on the patterns and similarities.**"
      ]
    },
    {
      "cell_type": "code",
      "metadata": {
        "id": "n0vZIetrxvtK",
        "colab_type": "code",
        "outputId": "31fd76b1-554a-48a1-f834-9b9c2f9b15f9",
        "colab": {
          "base_uri": "https://localhost:8080/",
          "height": 34
        }
      },
      "source": [
        "!mkdir -p ~/.kaggle\n",
        "!cp kaggle.json ~/.kaggle/\n",
        "!chmod 600 ~/.kaggle/kaggle.json\n",
        "!ls ~/.kaggle\n"
      ],
      "execution_count": 0,
      "outputs": [
        {
          "output_type": "stream",
          "text": [
            "kaggle.json\n"
          ],
          "name": "stdout"
        }
      ]
    },
    {
      "cell_type": "code",
      "metadata": {
        "id": "xg_55NMjyM7F",
        "colab_type": "code",
        "outputId": "cfd50bd0-daf3-4760-8591-dd9b394be81b",
        "colab": {
          "base_uri": "https://localhost:8080/",
          "height": 68
        }
      },
      "source": [
        "!kaggle datasets download -d dushyantv/consumer_complaints"
      ],
      "execution_count": 0,
      "outputs": [
        {
          "output_type": "stream",
          "text": [
            "Downloading consumer_complaints.zip to /content\n",
            " 97% 138M/142M [00:01<00:00, 121MB/s]\n",
            "100% 142M/142M [00:01<00:00, 118MB/s]\n"
          ],
          "name": "stdout"
        }
      ]
    },
    {
      "cell_type": "code",
      "metadata": {
        "id": "HjKYSMBAyM58",
        "colab_type": "code",
        "outputId": "dc95485a-219a-4438-edb3-552490ac4bd6",
        "colab": {
          "base_uri": "https://localhost:8080/",
          "height": 51
        }
      },
      "source": [
        "!unzip consumer_complaints.zip"
      ],
      "execution_count": 0,
      "outputs": [
        {
          "output_type": "stream",
          "text": [
            "Archive:  consumer_complaints.zip\n",
            "  inflating: Consumer_Complaints.csv  \n"
          ],
          "name": "stdout"
        }
      ]
    },
    {
      "cell_type": "code",
      "metadata": {
        "id": "HX9JAPXozPtG",
        "colab_type": "code",
        "colab": {}
      },
      "source": [
        "import numpy as np\n",
        "import pandas as pd\n",
        "import matplotlib.pyplot as plt\n",
        "import matplotlib.cm as cm\n",
        "\n",
        "from sklearn.cluster import MiniBatchKMeans, KMeans\n",
        "from sklearn.feature_extraction.text import TfidfVectorizer\n",
        "from sklearn.decomposition import PCA\n",
        "from sklearn.manifold import TSNE"
      ],
      "execution_count": 0,
      "outputs": []
    },
    {
      "cell_type": "code",
      "metadata": {
        "id": "Y9r0oWzQyM20",
        "colab_type": "code",
        "outputId": "e797ce25-fb27-4ec9-ed3f-17da94cfb486",
        "colab": {
          "base_uri": "https://localhost:8080/",
          "height": 564
        }
      },
      "source": [
        "data = pd.read_csv('Consumer_Complaints.csv')\n",
        "data.head()"
      ],
      "execution_count": 0,
      "outputs": [
        {
          "output_type": "execute_result",
          "data": {
            "text/html": [
              "<div>\n",
              "<style scoped>\n",
              "    .dataframe tbody tr th:only-of-type {\n",
              "        vertical-align: middle;\n",
              "    }\n",
              "\n",
              "    .dataframe tbody tr th {\n",
              "        vertical-align: top;\n",
              "    }\n",
              "\n",
              "    .dataframe thead th {\n",
              "        text-align: right;\n",
              "    }\n",
              "</style>\n",
              "<table border=\"1\" class=\"dataframe\">\n",
              "  <thead>\n",
              "    <tr style=\"text-align: right;\">\n",
              "      <th></th>\n",
              "      <th>Date received</th>\n",
              "      <th>Product</th>\n",
              "      <th>Sub-product</th>\n",
              "      <th>Issue</th>\n",
              "      <th>Sub-issue</th>\n",
              "      <th>Consumer Complaint</th>\n",
              "      <th>Company Public Response</th>\n",
              "      <th>Company</th>\n",
              "      <th>State</th>\n",
              "      <th>ZIP code</th>\n",
              "      <th>Tags</th>\n",
              "      <th>Consumer consent provided?</th>\n",
              "      <th>Submitted via</th>\n",
              "      <th>Date Sent to Company</th>\n",
              "      <th>Company Response to Consumer</th>\n",
              "      <th>Timely response?</th>\n",
              "      <th>Consumer disputed?</th>\n",
              "      <th>Complaint ID</th>\n",
              "      <th>Unnamed: 18</th>\n",
              "    </tr>\n",
              "  </thead>\n",
              "  <tbody>\n",
              "    <tr>\n",
              "      <th>0</th>\n",
              "      <td>03-12-2014</td>\n",
              "      <td>Mortgage</td>\n",
              "      <td>Other mortgage</td>\n",
              "      <td>Loan modification,collection,foreclosure</td>\n",
              "      <td>NaN</td>\n",
              "      <td>NaN</td>\n",
              "      <td>NaN</td>\n",
              "      <td>M&amp;T BANK CORPORATION</td>\n",
              "      <td>MI</td>\n",
              "      <td>48382</td>\n",
              "      <td>NaN</td>\n",
              "      <td>NaN</td>\n",
              "      <td>Referral</td>\n",
              "      <td>03/17/2014</td>\n",
              "      <td>Closed with explanation</td>\n",
              "      <td>Yes</td>\n",
              "      <td>No</td>\n",
              "      <td>759217</td>\n",
              "      <td>NaN</td>\n",
              "    </tr>\n",
              "    <tr>\n",
              "      <th>1</th>\n",
              "      <td>10-01-2016</td>\n",
              "      <td>Credit reporting</td>\n",
              "      <td>NaN</td>\n",
              "      <td>Incorrect information on credit report</td>\n",
              "      <td>Account status</td>\n",
              "      <td>I have outdated information on my credit repor...</td>\n",
              "      <td>Company has responded to the consumer and the ...</td>\n",
              "      <td>TRANSUNION INTERMEDIATE HOLDINGS, INC.</td>\n",
              "      <td>AL</td>\n",
              "      <td>352XX</td>\n",
              "      <td>NaN</td>\n",
              "      <td>Consent provided</td>\n",
              "      <td>Web</td>\n",
              "      <td>10-05-2016</td>\n",
              "      <td>Closed with explanation</td>\n",
              "      <td>Yes</td>\n",
              "      <td>No</td>\n",
              "      <td>2141773</td>\n",
              "      <td>NaN</td>\n",
              "    </tr>\n",
              "    <tr>\n",
              "      <th>2</th>\n",
              "      <td>10/17/2016</td>\n",
              "      <td>Consumer Loan</td>\n",
              "      <td>Vehicle loan</td>\n",
              "      <td>Managing the loan or lease</td>\n",
              "      <td>NaN</td>\n",
              "      <td>I purchased a new car on XXXX XXXX. The car de...</td>\n",
              "      <td>NaN</td>\n",
              "      <td>CITIZENS FINANCIAL GROUP, INC.</td>\n",
              "      <td>PA</td>\n",
              "      <td>177XX</td>\n",
              "      <td>Older American</td>\n",
              "      <td>Consent provided</td>\n",
              "      <td>Web</td>\n",
              "      <td>10/20/2016</td>\n",
              "      <td>Closed with explanation</td>\n",
              "      <td>Yes</td>\n",
              "      <td>No</td>\n",
              "      <td>2163100</td>\n",
              "      <td>NaN</td>\n",
              "    </tr>\n",
              "    <tr>\n",
              "      <th>3</th>\n",
              "      <td>06-08-2014</td>\n",
              "      <td>Credit card</td>\n",
              "      <td>NaN</td>\n",
              "      <td>Bankruptcy</td>\n",
              "      <td>NaN</td>\n",
              "      <td>NaN</td>\n",
              "      <td>NaN</td>\n",
              "      <td>AMERICAN EXPRESS COMPANY</td>\n",
              "      <td>ID</td>\n",
              "      <td>83854</td>\n",
              "      <td>Older American</td>\n",
              "      <td>NaN</td>\n",
              "      <td>Web</td>\n",
              "      <td>06-10-2014</td>\n",
              "      <td>Closed with explanation</td>\n",
              "      <td>Yes</td>\n",
              "      <td>Yes</td>\n",
              "      <td>885638</td>\n",
              "      <td>NaN</td>\n",
              "    </tr>\n",
              "    <tr>\n",
              "      <th>4</th>\n",
              "      <td>09/13/2014</td>\n",
              "      <td>Debt collection</td>\n",
              "      <td>Credit card</td>\n",
              "      <td>Communication tactics</td>\n",
              "      <td>Frequent or repeated calls</td>\n",
              "      <td>NaN</td>\n",
              "      <td>NaN</td>\n",
              "      <td>CITIBANK, N.A.</td>\n",
              "      <td>VA</td>\n",
              "      <td>23233</td>\n",
              "      <td>NaN</td>\n",
              "      <td>NaN</td>\n",
              "      <td>Web</td>\n",
              "      <td>09/13/2014</td>\n",
              "      <td>Closed with explanation</td>\n",
              "      <td>Yes</td>\n",
              "      <td>Yes</td>\n",
              "      <td>1027760</td>\n",
              "      <td>NaN</td>\n",
              "    </tr>\n",
              "  </tbody>\n",
              "</table>\n",
              "</div>"
            ],
            "text/plain": [
              "  Date received           Product  ... Complaint ID Unnamed: 18\n",
              "0    03-12-2014          Mortgage  ...       759217         NaN\n",
              "1    10-01-2016  Credit reporting  ...      2141773         NaN\n",
              "2    10/17/2016     Consumer Loan  ...      2163100         NaN\n",
              "3    06-08-2014       Credit card  ...       885638         NaN\n",
              "4    09/13/2014   Debt collection  ...      1027760         NaN\n",
              "\n",
              "[5 rows x 19 columns]"
            ]
          },
          "metadata": {
            "tags": []
          },
          "execution_count": 5
        }
      ]
    },
    {
      "cell_type": "code",
      "metadata": {
        "id": "MEPQvz8-B-U8",
        "colab_type": "code",
        "outputId": "551b9eae-c9e8-47be-85f7-16f15e510f3b",
        "colab": {
          "base_uri": "https://localhost:8080/",
          "height": 357
        }
      },
      "source": [
        "data.isna().sum()"
      ],
      "execution_count": 0,
      "outputs": [
        {
          "output_type": "execute_result",
          "data": {
            "text/plain": [
              "Date received                         0\n",
              "Product                               0\n",
              "Sub-product                      235170\n",
              "Issue                                 0\n",
              "Sub-issue                        496157\n",
              "Consumer Complaint               747196\n",
              "Company Public Response          706646\n",
              "Company                               0\n",
              "State                             12360\n",
              "ZIP code                          16718\n",
              "Tags                             883422\n",
              "Consumer consent provided?       533099\n",
              "Submitted via                         0\n",
              "Date Sent to Company                  0\n",
              "Company Response to Consumer          3\n",
              "Timely response?                      0\n",
              "Consumer disputed?               256456\n",
              "Complaint ID                          0\n",
              "Unnamed: 18                     1025010\n",
              "dtype: int64"
            ]
          },
          "metadata": {
            "tags": []
          },
          "execution_count": 6
        }
      ]
    },
    {
      "cell_type": "code",
      "metadata": {
        "id": "bNhLMk9ZCF_R",
        "colab_type": "code",
        "colab": {}
      },
      "source": [
        "idx = data[\"Consumer Complaint\"].isna()==False"
      ],
      "execution_count": 0,
      "outputs": []
    },
    {
      "cell_type": "code",
      "metadata": {
        "id": "LbjicXMACBIT",
        "colab_type": "code",
        "outputId": "32bc37ee-416d-4e89-b887-4d034df87a49",
        "colab": {
          "base_uri": "https://localhost:8080/",
          "height": 173
        }
      },
      "source": [
        "data.loc[idx, \"Consumer Complaint\"].values"
      ],
      "execution_count": 0,
      "outputs": [
        {
          "output_type": "execute_result",
          "data": {
            "text/plain": [
              "array(['I have outdated information on my credit report that I have previously disputed that has yet to be removed this information is more then seven years old and does not meet credit reporting requirements',\n",
              "       \"I purchased a new car on XXXX XXXX. The car dealer called Citizens Bank to get a 10 day payoff on my loan, good till XXXX XXXX. The dealer sent the check the next day. When I balanced my checkbook on XXXX XXXX. I noticed that Citizens bank had taken the automatic payment out of my checking account at XXXX XXXX XXXX Bank. I called Citizens and they stated that they did not close the loan until XXXX XXXX. ( stating that they did not receive the check until XXXX. XXXX. ). I told them that I did not believe that the check took that long to arrive. XXXX told me a check was issued to me for the amount overpaid, they deducted additional interest. Today ( XXXX XXXX, ) I called Citizens Bank again and talked to a supervisor named XXXX, because on XXXX XXXX. I received a letter that the loan had been paid in full ( dated XXXX, XXXX ) but no refund check was included. XXXX stated that they hold any over payment for 10 business days after the loan was satisfied and that my check would be mailed out on Wed. the XX/XX/XXXX.. I questioned her about the delay in posting the dealer payment and she first stated that sometimes it takes 3 or 4 business days to post, then she said they did not receive the check till XXXX XXXX I again told her that I did not believe this and asked where is my money. She then stated that they hold the over payment for 10 business days. I asked her why, and she simply said that is their policy. I asked her if I would receive interest on my money and she stated no. I believe that Citizens bank is deliberately delaying the posting of payment and the return of consumer 's money to make additional interest for the bank. If this is not illegal it should be, it does hurt the consumer and is not ethical. My amount of money lost is minimal but if they are doing this on thousands of car loans a month, then the additional interest earned for them could be staggering. I still have another car loan from Citizens Bank and I am afraid when I trade that car in another year I will run into the same problem again.\",\n",
              "       'An account on my credit report has a mistaken date. I mailed in a debt validation letter to allow XXXX to correct the information. I received a letter in the mail, stating that Experian received my correspondence and found it to be \" suspicious \\'\\' and that \" I did n\\'t write it \\'\\'. Experian \\'s letter is worded to imply that I am incapable of writing my own letter. I was deeply offended by this implication. \\nI called Experian to figure out why my letter was so suspicious. I spoke to a representative who was incredibly unhelpful, She did not effectively answer any questions I asked of her, and she kept ignoring what I was saying regarding the offensive letter and my dispute process. I feel the representative did what she wanted to do, and I am not satisfied. It is STILL not clear to me why I received this letter. I typed this letter, I signed this letter, and I paid to mail this letter, yet Experian willfully disregarded my lawful request. \\nI am disgusted with this entire situation, and I would like for my dispute to be handled appropriately, and I would like for an Experian representative to contact me and give me a real explanation for this letter.',\n",
              "       ...,\n",
              "       \"I had an account with XXXX in XX/XX/XXXX this was previously disputed for XXXX $ $ because at & t sold their towers in the area of my employer so my father and I whom both work here could not receive any phone calls while in our job, XXXX agreed and deleted it from our credit report. Now they 're saying I owe a combined about of XXXX sounds like XXXX is trying to combine the XXXX XXXX my father and I owed for termination onto my report only.\",\n",
              "       'I was contacted on XX/XX/XXXX email by XXXX from Caliber Home Loans to refinance my current loan with them. I replied on XX/XX/XXXX he gave me an acceptable estimate for refinancing my condo which was already mortgaged with Caliber. XXXX then proceeded to try to get me to refinance my primary home. He presented another favorable quote so I proceeded. We started the process and got both appraisals done and I provided all of the requested documents. The appraisals came back lower than the estimates so XXXX reworked the estimates and I approved and we moved on. This all happened before XXXX. I got a call from my first loan processor XXXX on XX/XX/XXXX herself and stating she was beginning the next phase of my loans. I have never heard another word from XXXX. I began trying to get a status of my loans on XX/XX/XXXX to allow extra time for the holidays. I called and emailed both XX/XX/XXXX and XX/XX/XXXX. Neither of them EVER replied or returned my phone calls. I tried emailing and calling multiple times every day. I called their main number but they were useless. I tried logging onto my account to check the status of my loans but I could n\\'t even access my account because of some IT problem they were having. I finally got someone on the XXXX number to give me someone else \\'s number. So I started calling XXXX who was supposedly XXXX boss but he never called me back either. On XX/XX/XXXX I got a call back from XXXX and he has been the most responsive but he has gone silent since the holidays. I was then assigned a new loan processor XX/XX/XXXX who basically started all over. I was told my new loan details after the appraisals came back lower were never entered into their system even though I had signed the new loans before XXXX. XXXX sent new estimates and my closing costs were higher even though I was borrowing less. XXXX said it was because my properties were entered as something other than condos and the condo closing costs are higher. He also refused to reimburse me for the appraisals. He said I would get \" credit for paying \\'\\' them at closing but I would not get reimbursed as XXXX had told me. He also is not honoring the lender credit I was given. I had locked in my interest rates which expired on XX/XX/2017. Supposedly Caliber extended the rate lock until XX/XX/XXXX but I have only received an email about the rate lock. I have not seen any official documentation. Late last week XXXX said there is a problem with the HOA on my primary property because of pending litigation but that it could still be handled and I could close on both properties if the right departments from Caliber was involved. I have not heard a word from XXXX since and the only communication I received at all was from XXXX \\'s boss yesterday in an informal email about my rate lock extension. \\nI know this is a lengthy story but here are my complaints : 1. Deceitful marketing practices. I am confident XXXX intentionally entered my properties into their system as something other than condos to make the deals more attractive in order to get me to refinance. The reason I am confident is because they already hold the loan on one of my properties. \\n2. Not honoring the agreement of reimbursing me for the appraisals and not giving me the lender credit as promised. \\n3. The total and complete lack of professionalism in their lack of communication with their customer, me. This is the absolute worst experience I have ever had with any institution wanting my business for anything.',\n",
              "       \"I had a debit that was included in my chapter XXXX BK, almost two years letter this item showed on my credit reports under collection status for Midwest Recovery Systems. This dropped my credit score XXXX points. I called them and they said their client had n't informed them that it was included in BK, but the damage had already been done. It took them 30 days to remove this incorrectly put item on my credit reports. Its still showing up on my XXXX. I thought this was against the law for them to do that since I am protected by BK laws. They should be fined for this. I should sue.\"],\n",
              "      dtype=object)"
            ]
          },
          "metadata": {
            "tags": []
          },
          "execution_count": 8
        }
      ]
    },
    {
      "cell_type": "markdown",
      "metadata": {
        "id": "3dEy6QbaEKak",
        "colab_type": "text"
      },
      "source": [
        "So many XXXXXXXX, needs to be removed"
      ]
    },
    {
      "cell_type": "code",
      "metadata": {
        "id": "g-NY5friFNWi",
        "colab_type": "code",
        "colab": {}
      },
      "source": [
        "import re"
      ],
      "execution_count": 0,
      "outputs": []
    },
    {
      "cell_type": "code",
      "metadata": {
        "id": "lwE5qxOKCbPG",
        "colab_type": "code",
        "colab": {}
      },
      "source": [
        "def remove_pattern(input_txt, pattern):\n",
        "    r = re.findall(pattern, input_txt)\n",
        "    for i in r:\n",
        "        input_txt = re.sub(i, '', input_txt)\n",
        "    return input_txt\n",
        "v_rem = np.vectorize(remove_pattern)"
      ],
      "execution_count": 0,
      "outputs": []
    },
    {
      "cell_type": "code",
      "metadata": {
        "id": "1rixbQqgmnEj",
        "colab_type": "code",
        "outputId": "75ec44f7-a800-4938-eed3-ae117a9bb541",
        "colab": {
          "base_uri": "https://localhost:8080/",
          "height": 34
        }
      },
      "source": [
        "len(idx)"
      ],
      "execution_count": 0,
      "outputs": [
        {
          "output_type": "execute_result",
          "data": {
            "text/plain": [
              "1025010"
            ]
          },
          "metadata": {
            "tags": []
          },
          "execution_count": 11
        }
      ]
    },
    {
      "cell_type": "code",
      "metadata": {
        "id": "bTVYKRyhCbL9",
        "colab_type": "code",
        "colab": {}
      },
      "source": [
        "txt = v_rem(data.loc[idx, \"Consumer Complaint\"].values[:len(idx)//100], r\"X[X*]\")\n",
        "txt = v_rem(txt, r\"(\\/\\/)\")\n",
        "txt = v_rem(txt, r\"( \\d* )\")\n",
        "txt = v_rem(txt, r\"()\")\n"
      ],
      "execution_count": 0,
      "outputs": []
    },
    {
      "cell_type": "code",
      "metadata": {
        "id": "poYhqH51nh34",
        "colab_type": "code",
        "colab": {}
      },
      "source": [
        "import gc\n",
        "gc.collect()"
      ],
      "execution_count": 0,
      "outputs": []
    },
    {
      "cell_type": "code",
      "metadata": {
        "id": "6ERxJhmWEYnM",
        "colab_type": "code",
        "colab": {}
      },
      "source": [
        "txt;"
      ],
      "execution_count": 0,
      "outputs": []
    },
    {
      "cell_type": "code",
      "metadata": {
        "id": "Lag25aMze9rE",
        "colab_type": "code",
        "colab": {}
      },
      "source": [
        "import nltk\n",
        "nltk.download('wordnet')\n",
        "nltk.download('stopwords')"
      ],
      "execution_count": 0,
      "outputs": []
    },
    {
      "cell_type": "code",
      "metadata": {
        "id": "Vq571TCjFRD6",
        "colab_type": "code",
        "colab": {}
      },
      "source": [
        "from nltk.stem import *\n",
        "from nltk.corpus import stopwords\n",
        "stemmer = PorterStemmer()\n",
        "  \n",
        "lemmatizer = WordNetLemmatizer()"
      ],
      "execution_count": 0,
      "outputs": []
    },
    {
      "cell_type": "code",
      "metadata": {
        "id": "vdavFXRrcsdk",
        "colab_type": "code",
        "colab": {}
      },
      "source": [
        "sent_less = [sent.replace(\"[^a-zA-Z#]\", \" \") for sent in txt]"
      ],
      "execution_count": 0,
      "outputs": []
    },
    {
      "cell_type": "code",
      "metadata": {
        "id": "WNvFfpLodSBL",
        "colab_type": "code",
        "colab": {}
      },
      "source": [
        "tokenized_sent = [x.split() for x in sent_less]"
      ],
      "execution_count": 0,
      "outputs": []
    },
    {
      "cell_type": "code",
      "metadata": {
        "id": "Y1MHpEAOdR_b",
        "colab_type": "code",
        "colab": {}
      },
      "source": [
        "sents = []\n",
        "for sent in tokenized_sent:\n",
        "    sents.append([lemmatizer.lemmatize(plural) for plural in sent])"
      ],
      "execution_count": 0,
      "outputs": []
    },
    {
      "cell_type": "code",
      "metadata": {
        "id": "W0Y00pNld0cz",
        "colab_type": "code",
        "colab": {}
      },
      "source": [
        "tokenized_sents = [\" \".join(x) for x in sents]"
      ],
      "execution_count": 0,
      "outputs": []
    },
    {
      "cell_type": "code",
      "metadata": {
        "id": "OZfFD6S4d0Zs",
        "colab_type": "code",
        "outputId": "ebabffeb-feb3-42b2-b268-92815463fa9a",
        "colab": {
          "base_uri": "https://localhost:8080/",
          "height": 207
        }
      },
      "source": [
        "tokenized_sents[:10]"
      ],
      "execution_count": 0,
      "outputs": [
        {
          "output_type": "execute_result",
          "data": {
            "text/plain": [
              "['I have outdated information on my credit report that I have previously disputed that ha yet to be removed this information is more then seven year old and doe not meet credit reporting requirement',\n",
              " \"I purchased a new car on. The car dealer called Citizens Bank to get aday payoff on my loan, good till. The dealer sent the check the next day. When I balanced my checkbook on. I noticed that Citizens bank had taken the automatic payment out of my checking account atBank. I called Citizens and they stated that they did not close the loan until. ( stating that they did not receive the check until . . ). I told them that I did not believe that the check took that long to arrive.told me a check wa issued to me for the amount overpaid, they deducted additional interest. Today (, ) I called Citizens Bank again and talked to a supervisor named , because on. I received a letter that the loan had been paid in full ( dated ,) but no refund check wa included.stated that they hold any over payment forbusiness day after the loan wa satisfied and that my check would be mailed out on Wed. the .. I questioned her about the delay in posting the dealer payment and she first stated that sometimes it takesorbusiness day to post, then she said they did not receive the check till I again told her that I did not believe this and asked where is my money. She then stated that they hold the over payment forbusiness days. I asked her why, and she simply said that is their policy. I asked her if I would receive interest on my money and she stated no. I believe that Citizens bank is deliberately delaying the posting of payment and the return of consumer 's money to make additional interest for the bank. If this is not illegal it should be, it doe hurt the consumer and is not ethical. My amount of money lost is minimal but if they are doing this on thousand of car loan a month, then the additional interest earned for them could be staggering. I still have another car loan from Citizens Bank and I am afraid when I trade that car in another year I will run into the same problem again.\",\n",
              " 'An account on my credit report ha a mistaken date. I mailed in a debt validation letter to allowto correct the information. I received a letter in the mail, stating that Experian received my correspondence and found it to be \" suspicious \\'\\' and that \" I did n\\'t write it \\'\\'. Experian \\'s letter is worded to imply that I am incapable of writing my own letter. I wa deeply offended by this implication. I called Experian to figure out why my letter wa so suspicious. I spoke to a representative who wa incredibly unhelpful, She did not effectively answer any question I asked of her, and she kept ignoring what I wa saying regarding the offensive letter and my dispute process. I feel the representative did what she wanted to do, and I am not satisfied. It is STILL not clear to me why I received this letter. I typed this letter, I signed this letter, and I paid to mail this letter, yet Experian willfully disregarded my lawful request. I am disgusted with this entire situation, and I would like for my dispute to be handled appropriately, and I would like for an Experian representative to contact me and give me a real explanation for this letter.',\n",
              " 'This company refuse to provide me verification and validation of debt per my right under the FDCPA. I do not believe this debt is mine.',\n",
              " 'This complaint is in regard to Square Two Financial. Refer to CFPB case numberregarding CACH, L. L. C. Square Two Financial ha utilized my entire social security number to include date of birth on the pfd document listed with this complaint. The initial complaint wa with CACH, L. L. C. and not Square Two Financial. This is in breach of the following : 1. Identity Theft Assumption and Deterrence Act of2. Privacy Act of. Social Security4.Privacy Act-which carry a maximumfine for each calendar cap year. 5. Breach of Title , underandThe solution is to have CACH, L.L.C handle this correction and not Square Two Financial. Two Square Financial submitted thewith their subscriber name on the form listed on CFPB case #they are rendered liable in this matter. In addition, there is an account number associated with this Universal Data Form and they could use that account number instead of a SSN and DOB which is againstThis is also includes removal of the Form off of CFPB case #listed a a pdf document attached to this case number. Square Two Financial wa contacted atas ofby e-mail in regard to this matter. In addition, all of my information is not for sale and distribution via fax, fax-scanned, copied, stored in a retrieval system, recorded, transmitted digitally or electronically without my expressed written consent. This information is protected under copyright and publishing law of and. This information is protected under theunder the freedom of speech underto include the Uniform Commercial Codesand . These right are reserved world wide.',\n",
              " 'Started the refinance of home mortgage process with cash out option on 2016. Necessary document were submitted by . After initial review, got good faith estimate with loan amount and closing cost. Based on this estimate, a deposit of {$350.00} wa made towards appraisal. Appraisal came with lesser amount by {$5000.00}. Agreed to reduce the loan amount to that extent. However, got a revised estimate which wa le by {$30000.00} and with additional closing cost towards point etc. In between got numerous revised estimate with different loan amount and closing cost. It took more thanmonths to reach any definite closing document. Hence, want to get back the deposit of {$350.00}.',\n",
              " 'In , I and my ex-husband applied for a refinance & HELOC from Beneficial. The loan were granted. My ex-husband passed away. At this time I contacted a lawyer to determine my option for having my husband removed from the title to the property and mortgage. Lawyer took care of having husband removed from the title. I recently attempted to apply for refinance to remove him from the mortgage and take cash out. I learned through an attempt to refinance I wa unable to refinance the property due to there is no deed fromfound indicating my interest in the property. The only deed filed with theCounty Illinois Recorder wa inwith the original purchase of the home in which my ex-husband wa the only one listed on the deed. Beneficial did file a mortgage on ,on the property. I am just outraged at this point that I took out a loan on my home, yet it wa never deeded in my name a one of the rightful owners. Now I am being denied the ability to refinance at this time because I can not show that I wa the rightful owner of this property prior towhen my child quit claimed their father interest to me. I am just sick of this company and the way this company misleads andover customers. I am technically being forced to remain with this company because I can not secure financing with another reputable company because I have to wait anywhere from- 12months to refinance, because the property I have owned for overyears and paying on for over 20years is considered inheritance since it wa just quit claimed to me .',\n",
              " 'I have disputed several account on my credit report with Equifax several times. I first disputed with the original creditors, ,, and Solutions and afterletters did not receive any correspondence with proof. I sent copy of the letter and certified mail receipt to the credit bureau but they continue to verify these debt without copy of any proof with my signature. A statement of dispute wa also never put on my credit report. Equifax only continues to update the account associated with these creditors.',\n",
              " 'Mortgage wa transferred to Nationstar a of . Since then our payment are not posted in a timely manner or for the amount sent. for example payment cleared our bank onforper the payment history received from Nationstar the payment wa not posted untiland only for amount of . payment cleared our bank onforbut wa not posted to our account untiland only for amountWhen our loan wa transferred to Nationstar fromwe only received a good by letter frombut no welcome package from Nationstar. So had to contact them to make sure the payment amount wa the same a . I wa told it wa the same so that is what we are sending but they are only postingHave to call every month to get a payment history a they will not allow use of the website. Try to get information several time a to why it take so long to post the money and why it is le than we sent. sent them the exact same document attached and all they will state is they have no record of sending me the history every month and they are posting the money for what we sent. Have been unable to resolve the issue with Nationstar a they are not willing to listen or review the document I sent to them a proof of what they sent me. Have been calling them every month since to get a payment history but they deny sending it each month.',\n",
              " 'Was a happycard member for years, in late 2016converted the card portfolio to Barclaycard (). We almost never carry a balance over, but we started to inand Barclay ha been overcharging the interest expense every month. Instead of charging interest on the carried balance they charged it on the entire average balance. So if we charged {$3000.00} last month and carried {$3000.00} from previous month then they charged us% of the {$6000.00} = {$75.00}, should have been {$37.00} in interest charges. They are double dipping, getting the interchange fee ( 1.5 % of purchase, equal to an% apr ), plus they are getting the interest on the purchase at%, that is the equivalent of an% interest charge. I feel this practice is very unethical, if not illegal. We converted, not by our choice, fromto Barclaycard MasterCard, so if we leave we lose all the point we acquired in previous years. Completely unfair and is why the big financials have the hated reputation they have now. Hope you folk over there can investigate.']"
            ]
          },
          "metadata": {
            "tags": []
          },
          "execution_count": 179
        }
      ]
    },
    {
      "cell_type": "code",
      "metadata": {
        "id": "MQqW_0mGd-8z",
        "colab_type": "code",
        "colab": {}
      },
      "source": [
        ""
      ],
      "execution_count": 0,
      "outputs": []
    },
    {
      "cell_type": "code",
      "metadata": {
        "id": "PsPRCw48EYkU",
        "colab_type": "code",
        "colab": {}
      },
      "source": [
        ""
      ],
      "execution_count": 0,
      "outputs": []
    },
    {
      "cell_type": "code",
      "metadata": {
        "id": "sLPreXPsyM0f",
        "colab_type": "code",
        "colab": {}
      },
      "source": [
        "tfidf = TfidfVectorizer(\n",
        "    stop_words=stopwords.words('english'),\n",
        "    max_df=0.5,\n",
        "    min_df=0.1,\n",
        "    lowercase=True\n",
        ")\n",
        "tfidf.fit(txt)\n",
        "text = tfidf.transform(tokenized_sents)"
      ],
      "execution_count": 0,
      "outputs": []
    },
    {
      "cell_type": "code",
      "metadata": {
        "id": "oBaItBRGyMyN",
        "colab_type": "code",
        "outputId": "5cfe335b-b73a-4828-dd9f-6f7d60d9aa06",
        "colab": {
          "base_uri": "https://localhost:8080/",
          "height": 34
        }
      },
      "source": [
        "text.toarray().shape"
      ],
      "execution_count": 0,
      "outputs": [
        {
          "output_type": "execute_result",
          "data": {
            "text/plain": [
              "(1000, 85)"
            ]
          },
          "metadata": {
            "tags": []
          },
          "execution_count": 208
        }
      ]
    },
    {
      "cell_type": "code",
      "metadata": {
        "id": "msSvkU0bOEA0",
        "colab_type": "code",
        "outputId": "3e492844-d029-4fd2-9ff2-9cd1e328733e",
        "colab": {
          "base_uri": "https://localhost:8080/",
          "height": 465
        }
      },
      "source": [
        "def find_optimal_clusters(data, max_k):\n",
        "    iters = range(2, max_k+1, 2)\n",
        "    \n",
        "    sse = []\n",
        "    for k in iters:\n",
        "        sse.append(MiniBatchKMeans(n_clusters=k, init_size=1024, batch_size=2048, random_state=20).fit(text.toarray()).inertia_)\n",
        "        print('Fit {} clusters'.format(k))\n",
        "        \n",
        "    f, ax = plt.subplots(1, 1)\n",
        "    ax.plot(iters, sse, marker='o')\n",
        "    ax.set_xlabel('Cluster Centers')\n",
        "    ax.set_xticks(iters)\n",
        "    ax.set_xticklabels(iters)\n",
        "    ax.set_ylabel('SSE')\n",
        "    ax.set_title('SSE by Cluster Center Plot')\n",
        "    \n",
        "find_optimal_clusters(text, 20)"
      ],
      "execution_count": 0,
      "outputs": [
        {
          "output_type": "stream",
          "text": [
            "Fit 2 clusters\n",
            "Fit 4 clusters\n",
            "Fit 6 clusters\n",
            "Fit 8 clusters\n",
            "Fit 10 clusters\n",
            "Fit 12 clusters\n",
            "Fit 14 clusters\n",
            "Fit 16 clusters\n",
            "Fit 18 clusters\n",
            "Fit 20 clusters\n"
          ],
          "name": "stdout"
        },
        {
          "output_type": "display_data",
          "data": {
            "image/png": "[encoded data removed]",
            "text/plain": [
              "<Figure size 432x288 with 1 Axes>"
            ]
          },
          "metadata": {
            "tags": []
          }
        }
      ]
    },
    {
      "cell_type": "code",
      "metadata": {
        "id": "Hgyhow3zK6Ct",
        "colab_type": "code",
        "colab": {}
      },
      "source": [
        "clusters = KMeans(n_clusters=3, random_state=42).fit_predict(text.toarray())"
      ],
      "execution_count": 0,
      "outputs": []
    },
    {
      "cell_type": "code",
      "metadata": {
        "id": "sSSnTWsskM1V",
        "colab_type": "code",
        "outputId": "c80a24df-48eb-4bfe-8ce7-148ec5b4c996",
        "colab": {
          "base_uri": "https://localhost:8080/",
          "height": 799
        }
      },
      "source": [
        "clusters"
      ],
      "execution_count": 0,
      "outputs": [
        {
          "output_type": "execute_result",
          "data": {
            "text/plain": [
              "array([0, 2, 1, 1, 1, 2, 2, 0, 2, 2, 0, 1, 0, 0, 1, 0, 0, 2, 0, 2, 1, 0,\n",
              "       0, 0, 2, 1, 1, 2, 2, 1, 1, 2, 1, 0, 2, 2, 1, 2, 1, 1, 0, 0, 2, 1,\n",
              "       0, 2, 2, 1, 0, 0, 1, 1, 2, 0, 2, 2, 2, 1, 2, 1, 2, 1, 1, 0, 0, 0,\n",
              "       0, 2, 1, 1, 1, 2, 0, 1, 2, 0, 1, 2, 1, 0, 1, 1, 1, 1, 2, 1, 1, 1,\n",
              "       2, 0, 2, 0, 1, 0, 2, 0, 2, 1, 1, 1, 1, 1, 1, 2, 0, 1, 2, 1, 2, 2,\n",
              "       1, 1, 0, 1, 1, 2, 1, 0, 1, 1, 1, 1, 2, 1, 0, 1, 2, 1, 2, 0, 1, 1,\n",
              "       0, 0, 1, 1, 2, 1, 1, 1, 1, 0, 2, 2, 0, 2, 2, 1, 2, 2, 1, 1, 2, 0,\n",
              "       2, 1, 1, 1, 1, 0, 0, 1, 2, 0, 0, 1, 0, 1, 1, 2, 1, 0, 0, 1, 2, 1,\n",
              "       1, 1, 0, 0, 1, 0, 1, 1, 0, 2, 1, 1, 2, 0, 1, 0, 1, 1, 1, 0, 0, 2,\n",
              "       0, 1, 1, 2, 2, 2, 0, 1, 0, 0, 2, 1, 2, 0, 0, 2, 1, 0, 1, 1, 2, 0,\n",
              "       0, 1, 1, 1, 0, 0, 1, 2, 0, 0, 0, 1, 1, 1, 2, 1, 1, 2, 2, 1, 1, 1,\n",
              "       2, 1, 2, 0, 2, 1, 1, 1, 0, 1, 2, 0, 1, 0, 1, 1, 1, 1, 1, 2, 1, 1,\n",
              "       1, 1, 0, 1, 0, 1, 2, 1, 0, 1, 1, 1, 2, 2, 1, 0, 1, 2, 1, 0, 1, 1,\n",
              "       2, 2, 1, 1, 0, 0, 1, 0, 1, 0, 1, 1, 1, 1, 0, 2, 0, 0, 1, 2, 0, 2,\n",
              "       1, 0, 1, 1, 1, 1, 1, 2, 1, 1, 0, 0, 2, 0, 2, 1, 2, 2, 0, 0, 1, 1,\n",
              "       2, 2, 1, 0, 2, 2, 2, 0, 0, 0, 0, 1, 1, 2, 1, 0, 2, 1, 1, 0, 1, 2,\n",
              "       1, 1, 0, 2, 0, 1, 1, 1, 0, 1, 2, 2, 0, 0, 0, 1, 0, 1, 1, 2, 2, 0,\n",
              "       1, 0, 2, 1, 0, 0, 2, 1, 0, 2, 1, 0, 1, 1, 1, 1, 1, 0, 1, 1, 2, 0,\n",
              "       1, 1, 1, 1, 0, 1, 0, 0, 0, 0, 0, 1, 2, 1, 1, 2, 1, 1, 2, 1, 1, 2,\n",
              "       1, 1, 2, 0, 1, 0, 2, 1, 2, 1, 1, 0, 1, 2, 2, 0, 1, 1, 1, 0, 1, 1,\n",
              "       1, 1, 1, 2, 0, 1, 1, 0, 2, 1, 0, 2, 0, 1, 0, 2, 0, 1, 1, 2, 2, 1,\n",
              "       1, 1, 2, 1, 2, 2, 1, 1, 1, 0, 0, 1, 1, 1, 1, 2, 1, 1, 1, 1, 1, 0,\n",
              "       1, 2, 2, 1, 1, 1, 1, 1, 1, 0, 0, 1, 1, 2, 2, 0, 1, 1, 1, 1, 1, 1,\n",
              "       1, 2, 1, 1, 1, 0, 1, 2, 2, 1, 1, 1, 2, 2, 0, 0, 0, 1, 2, 1, 1, 1,\n",
              "       0, 1, 0, 1, 1, 0, 1, 2, 1, 1, 1, 1, 2, 1, 1, 2, 0, 0, 0, 1, 0, 0,\n",
              "       2, 0, 1, 0, 0, 2, 2, 2, 1, 2, 1, 2, 2, 2, 1, 2, 1, 1, 2, 1, 2, 1,\n",
              "       0, 1, 0, 0, 2, 1, 0, 1, 1, 2, 1, 1, 1, 1, 2, 2, 1, 0, 2, 1, 0, 1,\n",
              "       2, 1, 1, 1, 0, 0, 1, 0, 0, 2, 1, 1, 1, 2, 1, 2, 1, 0, 1, 0, 1, 0,\n",
              "       1, 2, 1, 1, 0, 2, 2, 2, 1, 1, 2, 1, 2, 1, 1, 1, 0, 2, 1, 2, 2, 2,\n",
              "       0, 2, 1, 2, 2, 0, 0, 1, 1, 1, 2, 0, 1, 1, 1, 1, 2, 1, 2, 1, 1, 0,\n",
              "       1, 1, 0, 1, 1, 0, 2, 0, 0, 0, 1, 1, 2, 1, 1, 2, 1, 0, 2, 1, 2, 0,\n",
              "       1, 0, 0, 2, 0, 2, 1, 1, 1, 1, 0, 1, 1, 0, 0, 2, 0, 0, 0, 1, 1, 0,\n",
              "       0, 2, 0, 2, 2, 1, 2, 0, 2, 1, 1, 2, 1, 1, 1, 2, 2, 0, 1, 1, 0, 2,\n",
              "       2, 1, 1, 2, 1, 1, 0, 1, 0, 1, 1, 2, 0, 1, 2, 0, 1, 1, 2, 1, 2, 0,\n",
              "       1, 1, 1, 1, 1, 2, 2, 2, 0, 2, 2, 2, 0, 2, 1, 1, 0, 0, 2, 2, 0, 1,\n",
              "       1, 1, 1, 0, 1, 1, 1, 1, 2, 1, 1, 2, 0, 2, 1, 2, 2, 2, 2, 1, 1, 1,\n",
              "       1, 0, 2, 2, 0, 1, 0, 2, 0, 2, 1, 0, 1, 1, 0, 1, 2, 1, 2, 1, 2, 1,\n",
              "       0, 2, 1, 0, 2, 2, 1, 1, 0, 1, 0, 1, 0, 0, 1, 1, 1, 1, 2, 0, 2, 1,\n",
              "       0, 0, 2, 1, 2, 1, 2, 0, 0, 0, 1, 2, 0, 1, 2, 0, 2, 1, 1, 1, 1, 0,\n",
              "       1, 0, 2, 1, 2, 2, 1, 0, 2, 2, 0, 1, 1, 2, 0, 1, 1, 2, 2, 1, 0, 1,\n",
              "       1, 2, 1, 1, 2, 1, 0, 1, 1, 1, 1, 2, 1, 1, 0, 1, 1, 0, 2, 1, 2, 0,\n",
              "       2, 2, 0, 2, 2, 1, 1, 1, 1, 0, 0, 2, 1, 1, 2, 2, 1, 1, 2, 0, 1, 2,\n",
              "       1, 1, 1, 1, 1, 2, 1, 1, 2, 2, 0, 1, 2, 1, 0, 0, 1, 2, 2, 2, 1, 2,\n",
              "       2, 1, 2, 2, 0, 2, 0, 2, 1, 1, 1, 1, 1, 2, 2, 2, 0, 1, 0, 1, 1, 2,\n",
              "       0, 1, 1, 1, 2, 1, 2, 1, 2, 1, 1, 0, 1, 1, 2, 0, 1, 1, 2, 0, 2, 2,\n",
              "       2, 2, 1, 1, 1, 0, 2, 0, 0, 1], dtype=int32)"
            ]
          },
          "metadata": {
            "tags": []
          },
          "execution_count": 227
        }
      ]
    },
    {
      "cell_type": "code",
      "metadata": {
        "id": "tlN7g7NxRXkc",
        "colab_type": "code",
        "colab": {}
      },
      "source": [
        "pca = PCA(n_components=3).fit_transform(text.toarray())"
      ],
      "execution_count": 0,
      "outputs": []
    },
    {
      "cell_type": "code",
      "metadata": {
        "id": "V68mFyrLRXiU",
        "colab_type": "code",
        "outputId": "ccb6fb28-ff1c-4ef6-acba-67f5b8459cbf",
        "colab": {
          "base_uri": "https://localhost:8080/",
          "height": 136
        }
      },
      "source": [
        "pca"
      ],
      "execution_count": 0,
      "outputs": [
        {
          "output_type": "execute_result",
          "data": {
            "text/plain": [
              "array([[ 0.51766043, -0.19269611, -0.38793581],\n",
              "       [-0.42092687,  0.06351382, -0.07060082],\n",
              "       [ 0.09859949, -0.05413002,  0.14017456],\n",
              "       ...,\n",
              "       [ 0.43809339,  0.24485891, -0.38987486],\n",
              "       [ 0.43668823,  0.10266544, -0.31128803],\n",
              "       [ 0.15965412,  0.07765176, -0.02857433]])"
            ]
          },
          "metadata": {
            "tags": []
          },
          "execution_count": 222
        }
      ]
    },
    {
      "cell_type": "code",
      "metadata": {
        "id": "xYEQ1MzVRXf2",
        "colab_type": "code",
        "outputId": "df3bce38-2d79-4573-92c2-a5f7a094c2d4",
        "colab": {
          "base_uri": "https://localhost:8080/",
          "height": 34
        }
      },
      "source": [
        "len(clusters)"
      ],
      "execution_count": 0,
      "outputs": [
        {
          "output_type": "execute_result",
          "data": {
            "text/plain": [
              "1000"
            ]
          },
          "metadata": {
            "tags": []
          },
          "execution_count": 223
        }
      ]
    },
    {
      "cell_type": "code",
      "metadata": {
        "id": "auMX5FqvPzhU",
        "colab_type": "code",
        "colab": {}
      },
      "source": [
        ""
      ],
      "execution_count": 0,
      "outputs": []
    },
    {
      "cell_type": "code",
      "metadata": {
        "id": "6HmUMMiYPzaM",
        "colab_type": "code",
        "colab": {}
      },
      "source": [
        ""
      ],
      "execution_count": 0,
      "outputs": []
    },
    {
      "cell_type": "code",
      "metadata": {
        "id": "CqyK3t4nPzYM",
        "colab_type": "code",
        "colab": {}
      },
      "source": [
        ""
      ],
      "execution_count": 0,
      "outputs": []
    },
    {
      "cell_type": "code",
      "metadata": {
        "id": "1TJM-vVLOjGU",
        "colab_type": "code",
        "colab": {}
      },
      "source": [
        ""
      ],
      "execution_count": 0,
      "outputs": []
    },
    {
      "cell_type": "code",
      "metadata": {
        "id": "Zh5E5wdmM1oT",
        "colab_type": "code",
        "colab": {}
      },
      "source": [
        ""
      ],
      "execution_count": 0,
      "outputs": []
    },
    {
      "cell_type": "code",
      "metadata": {
        "id": "xWEkO76HJd2V",
        "colab_type": "code",
        "colab": {}
      },
      "source": [
        "import tensorflow as tf\n",
        "import tensorboard as tb\n",
        "tf.io.gfile = tb.compat.tensorflow_stub.io.gfile"
      ],
      "execution_count": 0,
      "outputs": []
    },
    {
      "cell_type": "code",
      "metadata": {
        "id": "XOwJR8AWK_Kb",
        "colab_type": "code",
        "colab": {}
      },
      "source": [
        "!kill 2361"
      ],
      "execution_count": 0,
      "outputs": []
    },
    {
      "cell_type": "code",
      "metadata": {
        "id": "vCXlrF2LJdzf",
        "colab_type": "code",
        "colab": {}
      },
      "source": [
        "import numpy as np\n",
        "from torch.utils.tensorboard import SummaryWriter\n",
        "\n",
        "writer = SummaryWriter()\n",
        "writer.add_embedding(text.toarray(), clusters)\n",
        "writer.close()\n",
        "%load_ext tensorboard\n",
        "%tensorboard --logdir=runs "
      ],
      "execution_count": 0,
      "outputs": []
    },
    {
      "cell_type": "code",
      "metadata": {
        "id": "UESB3ZvzyMDO",
        "colab_type": "code",
        "colab": {}
      },
      "source": [
        ""
      ],
      "execution_count": 0,
      "outputs": []
    },
    {
      "cell_type": "code",
      "metadata": {
        "id": "86i6YHZiB4rz",
        "colab_type": "code",
        "colab": {}
      },
      "source": [
        ""
      ],
      "execution_count": 0,
      "outputs": []
    },
    {
      "cell_type": "code",
      "metadata": {
        "id": "GZOb4kG8B4on",
        "colab_type": "code",
        "colab": {}
      },
      "source": [
        ""
      ],
      "execution_count": 0,
      "outputs": []
    }
  ]
}